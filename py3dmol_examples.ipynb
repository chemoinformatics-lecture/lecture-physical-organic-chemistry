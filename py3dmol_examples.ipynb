{
  "nbformat": 4,
  "nbformat_minor": 0,
  "metadata": {
    "kernelspec": {
      "display_name": "Python 3",
      "language": "python",
      "name": "python3"
    },
    "language_info": {
      "codemirror_mode": {
        "name": "ipython",
        "version": 3
      },
      "file_extension": ".py",
      "mimetype": "text/x-python",
      "name": "python",
      "nbconvert_exporter": "python",
      "pygments_lexer": "ipython3",
      "version": "3.8.5"
    },
    "colab": {
      "provenance": [],
      "collapsed_sections": [],
      "include_colab_link": true
    }
  },
  "cells": [
    {
      "cell_type": "markdown",
      "metadata": {
        "id": "view-in-github",
        "colab_type": "text"
      },
      "source": [
        "<a href=\"https://colab.research.google.com/github/chemoinformatics-lecture/lecture-physical-organic-chemistry/blob/main/py3dmol_examples.ipynb\" target=\"_parent\"><img src=\"https://colab.research.google.com/assets/colab-badge.svg\" alt=\"Open In Colab\"/></a>"
      ]
    },
    {
      "cell_type": "markdown",
      "metadata": {
        "id": "7w1AnUV8Gx5J"
      },
      "source": [
        "py3Dmol\n",
        "=======\n",
        "\n",
        "A simple [IPython/Jupyter](http://jupyter.org/) widget to\n",
        "embed an interactive [3Dmol.js](http://3dmol.csb.pitt.edu) viewer in a notebook.\n",
        "\n",
        "The widget is completely static, which means the viewer doesn't need a running\n",
        "IPython kernel to be useful and web pages and presentations generated from\n",
        "the notebook will work as expected.  However, this also means there is only\n",
        "one-way communication between the notebook and the viewer.\n",
        "\n",
        "Installation\n",
        "------------\n",
        "\n",
        "From PyPI:\n",
        "\n",
        "    pip install py3Dmol\n",
        "    \n",
        "API\n",
        "---\n",
        "\n",
        "The returned view object has the exact same API as [3Dmol.GLViewer](http://3dmol.csb.pitt.edu/doc/$3Dmol.GLViewer.html)\n",
        "with the exception that functions return None.\n",
        "\n"
      ]
    },
    {
      "cell_type": "code",
      "metadata": {
        "id": "XqOY78BIeESr",
        "colab": {
          "base_uri": "https://localhost:8080/"
        },
        "outputId": "8b590a96-d44c-4d73-fdfb-a4bdffd29cce"
      },
      "source": [
        "!pip install py3Dmol"
      ],
      "execution_count": null,
      "outputs": [
        {
          "output_type": "stream",
          "name": "stdout",
          "text": [
            "Collecting py3Dmol\n",
            "  Downloading py3Dmol-1.8.0-py2.py3-none-any.whl (6.4 kB)\n",
            "Installing collected packages: py3Dmol\n",
            "Successfully installed py3Dmol-1.8.0\n"
          ]
        }
      ]
    },
    {
      "cell_type": "code",
      "metadata": {
        "id": "Q5RuxM2JGx5K"
      },
      "source": [
        "import py3Dmol"
      ],
      "execution_count": null,
      "outputs": []
    },
    {
      "cell_type": "code",
      "metadata": {
        "scrolled": false,
        "id": "oMtjSTR0Gx5O",
        "colab": {
          "base_uri": "https://localhost:8080/",
          "height": 514
        },
        "outputId": "86a15165-2716-4a93-b4ae-3b5a1d09d2d3"
      },
      "source": [
        "p = py3Dmol.view(query='mmtf:1ycr')\n",
        "p.setStyle({'cartoon': {'color':'spectrum'}})\n",
        "p"
      ],
      "execution_count": null,
      "outputs": [
        {
          "output_type": "display_data",
          "data": {
            "application/3dmoljs_load.v0": "<div id=\"3dmolviewer_16530009572269998\"  style=\"position: relative; width: 640px; height: 480px\">\n        <p id=\"3dmolwarning_16530009572269998\" style=\"background-color:#ffcccc;color:black\">You appear to be running in JupyterLab (or JavaScript failed to load for some other reason).  You need to install the 3dmol extension: <br>\n        <tt>jupyter labextension install jupyterlab_3dmol</tt></p>\n        </div>\n<script>\n\nvar loadScriptAsync = function(uri){\n  return new Promise((resolve, reject) => {\n    var tag = document.createElement('script');\n    tag.src = uri;\n    tag.async = true;\n    tag.onload = () => {\n      resolve();\n    };\n  var firstScriptTag = document.getElementsByTagName('script')[0];\n  firstScriptTag.parentNode.insertBefore(tag, firstScriptTag);\n});\n};\n\nif(typeof $3Dmolpromise === 'undefined') {\n$3Dmolpromise = null;\n  $3Dmolpromise = loadScriptAsync('https://3dmol.org/build/3Dmol.js');\n}\n\nvar viewer_16530009572269998 = null;\nvar warn = document.getElementById(\"3dmolwarning_16530009572269998\");\nif(warn) {\n    warn.parentNode.removeChild(warn);\n}\n$3Dmolpromise.then(function() {\nviewer_16530009572269998 = $3Dmol.createViewer($(\"#3dmolviewer_16530009572269998\"),{backgroundColor:\"white\"});\n$3Dmol.download(\"mmtf:1ycr\", viewer_16530009572269998, {}, function() {\nviewer_16530009572269998.zoomTo();\n\tviewer_16530009572269998.setStyle({\"cartoon\": {\"color\": \"spectrum\"}});\nviewer_16530009572269998.render();\n})\n});\n</script>",
            "text/html": [
              "<div id=\"3dmolviewer_16530009572269998\"  style=\"position: relative; width: 640px; height: 480px\">\n",
              "        <p id=\"3dmolwarning_16530009572269998\" style=\"background-color:#ffcccc;color:black\">You appear to be running in JupyterLab (or JavaScript failed to load for some other reason).  You need to install the 3dmol extension: <br>\n",
              "        <tt>jupyter labextension install jupyterlab_3dmol</tt></p>\n",
              "        </div>\n",
              "<script>\n",
              "\n",
              "var loadScriptAsync = function(uri){\n",
              "  return new Promise((resolve, reject) => {\n",
              "    var tag = document.createElement('script');\n",
              "    tag.src = uri;\n",
              "    tag.async = true;\n",
              "    tag.onload = () => {\n",
              "      resolve();\n",
              "    };\n",
              "  var firstScriptTag = document.getElementsByTagName('script')[0];\n",
              "  firstScriptTag.parentNode.insertBefore(tag, firstScriptTag);\n",
              "});\n",
              "};\n",
              "\n",
              "if(typeof $3Dmolpromise === 'undefined') {\n",
              "$3Dmolpromise = null;\n",
              "  $3Dmolpromise = loadScriptAsync('https://3dmol.org/build/3Dmol.js');\n",
              "}\n",
              "\n",
              "var viewer_16530009572269998 = null;\n",
              "var warn = document.getElementById(\"3dmolwarning_16530009572269998\");\n",
              "if(warn) {\n",
              "    warn.parentNode.removeChild(warn);\n",
              "}\n",
              "$3Dmolpromise.then(function() {\n",
              "viewer_16530009572269998 = $3Dmol.createViewer($(\"#3dmolviewer_16530009572269998\"),{backgroundColor:\"white\"});\n",
              "$3Dmol.download(\"mmtf:1ycr\", viewer_16530009572269998, {}, function() {\n",
              "viewer_16530009572269998.zoomTo();\n",
              "\tviewer_16530009572269998.setStyle({\"cartoon\": {\"color\": \"spectrum\"}});\n",
              "viewer_16530009572269998.render();\n",
              "})\n",
              "});\n",
              "</script>"
            ]
          },
          "metadata": {}
        },
        {
          "output_type": "execute_result",
          "data": {
            "text/plain": [
              "<py3Dmol.view at 0x7f6a50190750>"
            ]
          },
          "metadata": {},
          "execution_count": 7
        }
      ]
    },
    {
      "cell_type": "markdown",
      "metadata": {
        "id": "2Ffv8tOjf9Kp"
      },
      "source": [
        "## RDKit Integration"
      ]
    },
    {
      "cell_type": "markdown",
      "metadata": {
        "id": "Ly_HI6lEFNlD"
      },
      "source": [
        "### Install RDKit"
      ]
    },
    {
      "cell_type": "code",
      "metadata": {
        "colab": {
          "base_uri": "https://localhost:8080/"
        },
        "id": "gcm59MolfyhP",
        "outputId": "5a48ca16-ff7a-4fb2-da33-cd70ee867da5"
      },
      "source": [
        "!wget -c https://repo.continuum.io/miniconda/Miniconda3-py37_4.8.3-Linux-x86_64.sh\n",
        "!chmod +x Miniconda3-py37_4.8.3-Linux-x86_64.sh\n",
        "!time bash ./Miniconda3-py37_4.8.3-Linux-x86_64.sh -b -f -p /usr/local\n",
        "!time conda install -q -y -c conda-forge rdkit=2020.03.5"
      ],
      "execution_count": null,
      "outputs": [
        {
          "output_type": "stream",
          "name": "stdout",
          "text": [
            "--2021-10-05 01:51:46--  https://repo.continuum.io/miniconda/Miniconda3-py37_4.8.3-Linux-x86_64.sh\n",
            "Resolving repo.continuum.io (repo.continuum.io)... 104.18.200.79, 104.18.201.79, 2606:4700::6812:c94f, ...\n",
            "Connecting to repo.continuum.io (repo.continuum.io)|104.18.200.79|:443... connected.\n",
            "HTTP request sent, awaiting response... 301 Moved Permanently\n",
            "Location: https://repo.anaconda.com/miniconda/Miniconda3-py37_4.8.3-Linux-x86_64.sh [following]\n",
            "--2021-10-05 01:51:47--  https://repo.anaconda.com/miniconda/Miniconda3-py37_4.8.3-Linux-x86_64.sh\n",
            "Resolving repo.anaconda.com (repo.anaconda.com)... 104.16.131.3, 104.16.130.3, 2606:4700::6810:8203, ...\n",
            "Connecting to repo.anaconda.com (repo.anaconda.com)|104.16.131.3|:443... connected.\n",
            "HTTP request sent, awaiting response... 200 OK\n",
            "Length: 88867207 (85M) [application/x-sh]\n",
            "Saving to: ‘Miniconda3-py37_4.8.3-Linux-x86_64.sh’\n",
            "\n",
            "Miniconda3-py37_4.8 100%[===================>]  84.75M   200MB/s    in 0.4s    \n",
            "\n",
            "2021-10-05 01:51:47 (200 MB/s) - ‘Miniconda3-py37_4.8.3-Linux-x86_64.sh’ saved [88867207/88867207]\n",
            "\n",
            "PREFIX=/usr/local\n",
            "Unpacking payload ...\n",
            "Collecting package metadata (current_repodata.json): - \b\b\\ \b\b| \b\bdone\n",
            "Solving environment: - \b\b\\ \b\bdone\n",
            "\n",
            "## Package Plan ##\n",
            "\n",
            "  environment location: /usr/local\n",
            "\n",
            "  added / updated specs:\n",
            "    - _libgcc_mutex==0.1=main\n",
            "    - ca-certificates==2020.1.1=0\n",
            "    - certifi==2020.4.5.1=py37_0\n",
            "    - cffi==1.14.0=py37he30daa8_1\n",
            "    - chardet==3.0.4=py37_1003\n",
            "    - conda-package-handling==1.6.1=py37h7b6447c_0\n",
            "    - conda==4.8.3=py37_0\n",
            "    - cryptography==2.9.2=py37h1ba5d50_0\n",
            "    - idna==2.9=py_1\n",
            "    - ld_impl_linux-64==2.33.1=h53a641e_7\n",
            "    - libedit==3.1.20181209=hc058e9b_0\n",
            "    - libffi==3.3=he6710b0_1\n",
            "    - libgcc-ng==9.1.0=hdf63c60_0\n",
            "    - libstdcxx-ng==9.1.0=hdf63c60_0\n",
            "    - ncurses==6.2=he6710b0_1\n",
            "    - openssl==1.1.1g=h7b6447c_0\n",
            "    - pip==20.0.2=py37_3\n",
            "    - pycosat==0.6.3=py37h7b6447c_0\n",
            "    - pycparser==2.20=py_0\n",
            "    - pyopenssl==19.1.0=py37_0\n",
            "    - pysocks==1.7.1=py37_0\n",
            "    - python==3.7.7=hcff3b4d_5\n",
            "    - readline==8.0=h7b6447c_0\n",
            "    - requests==2.23.0=py37_0\n",
            "    - ruamel_yaml==0.15.87=py37h7b6447c_0\n",
            "    - setuptools==46.4.0=py37_0\n",
            "    - six==1.14.0=py37_0\n",
            "    - sqlite==3.31.1=h62c20be_1\n",
            "    - tk==8.6.8=hbc83047_0\n",
            "    - tqdm==4.46.0=py_0\n",
            "    - urllib3==1.25.8=py37_0\n",
            "    - wheel==0.34.2=py37_0\n",
            "    - xz==5.2.5=h7b6447c_0\n",
            "    - yaml==0.1.7=had09818_2\n",
            "    - zlib==1.2.11=h7b6447c_3\n",
            "\n",
            "\n",
            "The following NEW packages will be INSTALLED:\n",
            "\n",
            "  _libgcc_mutex      pkgs/main/linux-64::_libgcc_mutex-0.1-main\n",
            "  ca-certificates    pkgs/main/linux-64::ca-certificates-2020.1.1-0\n",
            "  certifi            pkgs/main/linux-64::certifi-2020.4.5.1-py37_0\n",
            "  cffi               pkgs/main/linux-64::cffi-1.14.0-py37he30daa8_1\n",
            "  chardet            pkgs/main/linux-64::chardet-3.0.4-py37_1003\n",
            "  conda              pkgs/main/linux-64::conda-4.8.3-py37_0\n",
            "  conda-package-han~ pkgs/main/linux-64::conda-package-handling-1.6.1-py37h7b6447c_0\n",
            "  cryptography       pkgs/main/linux-64::cryptography-2.9.2-py37h1ba5d50_0\n",
            "  idna               pkgs/main/noarch::idna-2.9-py_1\n",
            "  ld_impl_linux-64   pkgs/main/linux-64::ld_impl_linux-64-2.33.1-h53a641e_7\n",
            "  libedit            pkgs/main/linux-64::libedit-3.1.20181209-hc058e9b_0\n",
            "  libffi             pkgs/main/linux-64::libffi-3.3-he6710b0_1\n",
            "  libgcc-ng          pkgs/main/linux-64::libgcc-ng-9.1.0-hdf63c60_0\n",
            "  libstdcxx-ng       pkgs/main/linux-64::libstdcxx-ng-9.1.0-hdf63c60_0\n",
            "  ncurses            pkgs/main/linux-64::ncurses-6.2-he6710b0_1\n",
            "  openssl            pkgs/main/linux-64::openssl-1.1.1g-h7b6447c_0\n",
            "  pip                pkgs/main/linux-64::pip-20.0.2-py37_3\n",
            "  pycosat            pkgs/main/linux-64::pycosat-0.6.3-py37h7b6447c_0\n",
            "  pycparser          pkgs/main/noarch::pycparser-2.20-py_0\n",
            "  pyopenssl          pkgs/main/linux-64::pyopenssl-19.1.0-py37_0\n",
            "  pysocks            pkgs/main/linux-64::pysocks-1.7.1-py37_0\n",
            "  python             pkgs/main/linux-64::python-3.7.7-hcff3b4d_5\n",
            "  readline           pkgs/main/linux-64::readline-8.0-h7b6447c_0\n",
            "  requests           pkgs/main/linux-64::requests-2.23.0-py37_0\n",
            "  ruamel_yaml        pkgs/main/linux-64::ruamel_yaml-0.15.87-py37h7b6447c_0\n",
            "  setuptools         pkgs/main/linux-64::setuptools-46.4.0-py37_0\n",
            "  six                pkgs/main/linux-64::six-1.14.0-py37_0\n",
            "  sqlite             pkgs/main/linux-64::sqlite-3.31.1-h62c20be_1\n",
            "  tk                 pkgs/main/linux-64::tk-8.6.8-hbc83047_0\n",
            "  tqdm               pkgs/main/noarch::tqdm-4.46.0-py_0\n",
            "  urllib3            pkgs/main/linux-64::urllib3-1.25.8-py37_0\n",
            "  wheel              pkgs/main/linux-64::wheel-0.34.2-py37_0\n",
            "  xz                 pkgs/main/linux-64::xz-5.2.5-h7b6447c_0\n",
            "  yaml               pkgs/main/linux-64::yaml-0.1.7-had09818_2\n",
            "  zlib               pkgs/main/linux-64::zlib-1.2.11-h7b6447c_3\n",
            "\n",
            "\n",
            "Preparing transaction: / \b\b- \b\b\\ \b\bdone\n",
            "Executing transaction: / \b\b- \b\b\\ \b\b| \b\b/ \b\b- \b\b\\ \b\b| \b\b/ \b\b- \b\b\\ \b\b| \b\b/ \b\bdone\n",
            "installation finished.\n",
            "WARNING:\n",
            "    You currently have a PYTHONPATH environment variable set. This may cause\n",
            "    unexpected behavior when running the Python interpreter in Miniconda3.\n",
            "    For best results, please verify that your PYTHONPATH only points to\n",
            "    directories of packages that are compatible with the Python interpreter\n",
            "    in Miniconda3: /usr/local\n",
            "\n",
            "real\t0m31.702s\n",
            "user\t0m14.602s\n",
            "sys\t0m4.842s\n",
            "Collecting package metadata (current_repodata.json): ...working... done\n",
            "Solving environment: ...working... failed with initial frozen solve. Retrying with flexible solve.\n",
            "Collecting package metadata (repodata.json): ...working... done\n",
            "Solving environment: ...working... done\n",
            "\n",
            "## Package Plan ##\n",
            "\n",
            "  environment location: /usr/local\n",
            "\n",
            "  added / updated specs:\n",
            "    - rdkit=2020.03.5\n",
            "\n",
            "\n",
            "The following packages will be downloaded:\n",
            "\n",
            "    package                    |            build\n",
            "    ---------------------------|-----------------\n",
            "    boost-1.74.0               |   py37he5a615d_2         335 KB  conda-forge\n",
            "    boost-cpp-1.74.0           |       h9359b55_0        16.4 MB  conda-forge\n",
            "    bzip2-1.0.8                |       h516909a_3         398 KB  conda-forge\n",
            "    ca-certificates-2021.5.30  |       ha878542_0         136 KB  conda-forge\n",
            "    cairo-1.16.0               |    h3fc0475_1005         1.5 MB  conda-forge\n",
            "    certifi-2021.5.30          |   py37h89c1867_0         141 KB  conda-forge\n",
            "    conda-4.10.3               |   py37h89c1867_2         3.1 MB  conda-forge\n",
            "    fontconfig-2.13.1          |    h7e3eb15_1002         324 KB  conda-forge\n",
            "    freetype-2.10.4            |       h7ca028e_0         912 KB  conda-forge\n",
            "    glib-2.68.2                |       h36276a3_0         3.0 MB\n",
            "    icu-67.1                   |       he1b5a44_0        12.9 MB  conda-forge\n",
            "    jpeg-9d                    |       h36c2ea0_0         264 KB  conda-forge\n",
            "    libblas-3.9.0              |       8_openblas          11 KB  conda-forge\n",
            "    libcblas-3.9.0             |       8_openblas          11 KB  conda-forge\n",
            "    libgfortran-ng-7.5.0       |      h14aa051_19          22 KB  conda-forge\n",
            "    libgfortran4-7.5.0         |      h14aa051_19         1.3 MB  conda-forge\n",
            "    libiconv-1.16              |       h516909a_0         1.4 MB  conda-forge\n",
            "    liblapack-3.9.0            |       8_openblas          11 KB  conda-forge\n",
            "    libopenblas-0.3.12         |pthreads_hb3c22a3_1         8.2 MB  conda-forge\n",
            "    libpng-1.6.37              |       h21135ba_2         306 KB  conda-forge\n",
            "    libtiff-4.1.0              |       hc3755c2_3         568 KB  conda-forge\n",
            "    libuuid-2.32.1             |    h14c3975_1000          26 KB  conda-forge\n",
            "    libxcb-1.13                |    h14c3975_1002         396 KB  conda-forge\n",
            "    libxml2-2.9.10             |       h68273f3_2         1.3 MB  conda-forge\n",
            "    lz4-c-1.9.2                |       he1b5a44_3         203 KB  conda-forge\n",
            "    numpy-1.19.4               |   py37h7e9df27_1         5.2 MB  conda-forge\n",
            "    olefile-0.46               |     pyh9f0ad1d_1          32 KB  conda-forge\n",
            "    openssl-1.1.1h             |       h516909a_0         2.1 MB  conda-forge\n",
            "    pandas-1.1.4               |   py37h10a2094_0        10.5 MB  conda-forge\n",
            "    pcre-8.44                  |       he1b5a44_0         261 KB  conda-forge\n",
            "    pillow-5.3.0               |py37h00a061d_1000         595 KB  conda-forge\n",
            "    pixman-0.38.0              |    h516909a_1003         594 KB  conda-forge\n",
            "    pthread-stubs-0.4          |    h36c2ea0_1001           5 KB  conda-forge\n",
            "    pycairo-1.20.0             |   py37h01af8b0_1          77 KB  conda-forge\n",
            "    python-dateutil-2.8.2      |     pyhd8ed1ab_0         240 KB  conda-forge\n",
            "    python_abi-3.7             |          2_cp37m           4 KB  conda-forge\n",
            "    pytz-2021.1                |     pyhd8ed1ab_0         239 KB  conda-forge\n",
            "    rdkit-2020.03.5            |   py37h0c252aa_2        24.6 MB  conda-forge\n",
            "    xorg-kbproto-1.0.7         |    h14c3975_1002          26 KB  conda-forge\n",
            "    xorg-libice-1.0.10         |       h516909a_0          57 KB  conda-forge\n",
            "    xorg-libsm-1.2.3           |    h84519dc_1000          25 KB  conda-forge\n",
            "    xorg-libx11-1.6.12         |       h36c2ea0_0         919 KB  conda-forge\n",
            "    xorg-libxau-1.0.9          |       h14c3975_0          13 KB  conda-forge\n",
            "    xorg-libxdmcp-1.1.3        |       h516909a_0          18 KB  conda-forge\n",
            "    xorg-libxext-1.3.4         |       h516909a_0          51 KB  conda-forge\n",
            "    xorg-libxrender-0.9.10     |    h516909a_1002          31 KB  conda-forge\n",
            "    xorg-renderproto-0.11.1    |    h14c3975_1002           8 KB  conda-forge\n",
            "    xorg-xextproto-7.3.0       |    h14c3975_1002          27 KB  conda-forge\n",
            "    xorg-xproto-7.0.31         |    h14c3975_1007          72 KB  conda-forge\n",
            "    zstd-1.4.5                 |       h6597ccf_2         712 KB  conda-forge\n",
            "    ------------------------------------------------------------\n",
            "                                           Total:        99.1 MB\n",
            "\n",
            "The following NEW packages will be INSTALLED:\n",
            "\n",
            "  boost              conda-forge/linux-64::boost-1.74.0-py37he5a615d_2\n",
            "  boost-cpp          conda-forge/linux-64::boost-cpp-1.74.0-h9359b55_0\n",
            "  bzip2              conda-forge/linux-64::bzip2-1.0.8-h516909a_3\n",
            "  cairo              conda-forge/linux-64::cairo-1.16.0-h3fc0475_1005\n",
            "  fontconfig         conda-forge/linux-64::fontconfig-2.13.1-h7e3eb15_1002\n",
            "  freetype           conda-forge/linux-64::freetype-2.10.4-h7ca028e_0\n",
            "  glib               pkgs/main/linux-64::glib-2.68.2-h36276a3_0\n",
            "  icu                conda-forge/linux-64::icu-67.1-he1b5a44_0\n",
            "  jpeg               conda-forge/linux-64::jpeg-9d-h36c2ea0_0\n",
            "  libblas            conda-forge/linux-64::libblas-3.9.0-8_openblas\n",
            "  libcblas           conda-forge/linux-64::libcblas-3.9.0-8_openblas\n",
            "  libgfortran-ng     conda-forge/linux-64::libgfortran-ng-7.5.0-h14aa051_19\n",
            "  libgfortran4       conda-forge/linux-64::libgfortran4-7.5.0-h14aa051_19\n",
            "  libiconv           conda-forge/linux-64::libiconv-1.16-h516909a_0\n",
            "  liblapack          conda-forge/linux-64::liblapack-3.9.0-8_openblas\n",
            "  libopenblas        conda-forge/linux-64::libopenblas-0.3.12-pthreads_hb3c22a3_1\n",
            "  libpng             conda-forge/linux-64::libpng-1.6.37-h21135ba_2\n",
            "  libtiff            conda-forge/linux-64::libtiff-4.1.0-hc3755c2_3\n",
            "  libuuid            conda-forge/linux-64::libuuid-2.32.1-h14c3975_1000\n",
            "  libxcb             conda-forge/linux-64::libxcb-1.13-h14c3975_1002\n",
            "  libxml2            conda-forge/linux-64::libxml2-2.9.10-h68273f3_2\n",
            "  lz4-c              conda-forge/linux-64::lz4-c-1.9.2-he1b5a44_3\n",
            "  numpy              conda-forge/linux-64::numpy-1.19.4-py37h7e9df27_1\n",
            "  olefile            conda-forge/noarch::olefile-0.46-pyh9f0ad1d_1\n",
            "  pandas             conda-forge/linux-64::pandas-1.1.4-py37h10a2094_0\n",
            "  pcre               conda-forge/linux-64::pcre-8.44-he1b5a44_0\n",
            "  pillow             conda-forge/linux-64::pillow-5.3.0-py37h00a061d_1000\n",
            "  pixman             conda-forge/linux-64::pixman-0.38.0-h516909a_1003\n",
            "  pthread-stubs      conda-forge/linux-64::pthread-stubs-0.4-h36c2ea0_1001\n",
            "  pycairo            conda-forge/linux-64::pycairo-1.20.0-py37h01af8b0_1\n",
            "  python-dateutil    conda-forge/noarch::python-dateutil-2.8.2-pyhd8ed1ab_0\n",
            "  python_abi         conda-forge/linux-64::python_abi-3.7-2_cp37m\n",
            "  pytz               conda-forge/noarch::pytz-2021.1-pyhd8ed1ab_0\n",
            "  rdkit              conda-forge/linux-64::rdkit-2020.03.5-py37h0c252aa_2\n",
            "  xorg-kbproto       conda-forge/linux-64::xorg-kbproto-1.0.7-h14c3975_1002\n",
            "  xorg-libice        conda-forge/linux-64::xorg-libice-1.0.10-h516909a_0\n",
            "  xorg-libsm         conda-forge/linux-64::xorg-libsm-1.2.3-h84519dc_1000\n",
            "  xorg-libx11        conda-forge/linux-64::xorg-libx11-1.6.12-h36c2ea0_0\n",
            "  xorg-libxau        conda-forge/linux-64::xorg-libxau-1.0.9-h14c3975_0\n",
            "  xorg-libxdmcp      conda-forge/linux-64::xorg-libxdmcp-1.1.3-h516909a_0\n",
            "  xorg-libxext       conda-forge/linux-64::xorg-libxext-1.3.4-h516909a_0\n",
            "  xorg-libxrender    conda-forge/linux-64::xorg-libxrender-0.9.10-h516909a_1002\n",
            "  xorg-renderproto   conda-forge/linux-64::xorg-renderproto-0.11.1-h14c3975_1002\n",
            "  xorg-xextproto     conda-forge/linux-64::xorg-xextproto-7.3.0-h14c3975_1002\n",
            "  xorg-xproto        conda-forge/linux-64::xorg-xproto-7.0.31-h14c3975_1007\n",
            "  zstd               conda-forge/linux-64::zstd-1.4.5-h6597ccf_2\n",
            "\n",
            "The following packages will be UPDATED:\n",
            "\n",
            "  ca-certificates     pkgs/main::ca-certificates-2020.1.1-0 --> conda-forge::ca-certificates-2021.5.30-ha878542_0\n",
            "  certifi              pkgs/main::certifi-2020.4.5.1-py37_0 --> conda-forge::certifi-2021.5.30-py37h89c1867_0\n",
            "  conda                       pkgs/main::conda-4.8.3-py37_0 --> conda-forge::conda-4.10.3-py37h89c1867_2\n",
            "  openssl              pkgs/main::openssl-1.1.1g-h7b6447c_0 --> conda-forge::openssl-1.1.1h-h516909a_0\n",
            "\n",
            "\n",
            "Preparing transaction: ...working... done\n",
            "Verifying transaction: ...working... done\n",
            "Executing transaction: ...working... done\n",
            "\n",
            "real\t2m22.755s\n",
            "user\t2m12.573s\n",
            "sys\t0m7.387s\n"
          ]
        }
      ]
    },
    {
      "cell_type": "markdown",
      "metadata": {
        "id": "NLW_im9QFT6k"
      },
      "source": [
        "### Load a Molecule"
      ]
    },
    {
      "cell_type": "code",
      "metadata": {
        "id": "_5IXRRoxgWmT"
      },
      "source": [
        "import sys\n",
        "sys.path.append('/usr/local/lib/python3.7/site-packages/')\n",
        "import rdkit\n",
        "from rdkit import Chem\n",
        "from rdkit.Chem import AllChem\n",
        "from rdkit.Chem import Draw\n",
        "from rdkit.Chem.Draw import IPythonConsole"
      ],
      "execution_count": null,
      "outputs": []
    },
    {
      "cell_type": "code",
      "metadata": {
        "colab": {
          "base_uri": "https://localhost:8080/",
          "height": 166
        },
        "id": "Te-MFQENgDcg",
        "outputId": "3c3cf69e-b150-4255-bb7e-33e70ae292f3"
      },
      "source": [
        "mol = Chem.MolFromSmiles('C1CCCCC1')\n",
        "AllChem.EmbedMolecule(mol)\n",
        "mol"
      ],
      "execution_count": null,
      "outputs": [
        {
          "output_type": "execute_result",
          "data": {
            "image/png": "[encoded data removed]",
            "text/plain": [
              "<rdkit.Chem.rdchem.Mol at 0x7ffa93a3f800>"
            ]
          },
          "metadata": {},
          "execution_count": 7
        }
      ]
    },
    {
      "cell_type": "code",
      "metadata": {
        "colab": {
          "base_uri": "https://localhost:8080/",
          "height": 416
        },
        "id": "sUJV9dtEiIGX",
        "outputId": "e2f2ae6e-c569-4762-8440-06704c7811b1"
      },
      "source": [
        "rdkit.Chem.Draw.IPythonConsole.ipython_3d = True  # enable py3Dmol inline visualization\n",
        "mol"
      ],
      "execution_count": null,
      "outputs": [
        {
          "output_type": "display_data",
          "data": {
            "application/3dmoljs_load.v0": "<div id=\"3dmolviewer_1633398882558082\"  style=\"position: relative; width: 400px; height: 400px\">\n        <p id=\"3dmolwarning_1633398882558082\" style=\"background-color:#ffcccc;color:black\">You appear to be running in JupyterLab (or JavaScript failed to load for some other reason).  You need to install the 3dmol extension: <br>\n        <tt>jupyter labextension install jupyterlab_3dmol</tt></p>\n        </div>\n<script>\n\nvar loadScriptAsync = function(uri){\n  return new Promise((resolve, reject) => {\n    var tag = document.createElement('script');\n    tag.src = uri;\n    tag.async = true;\n    tag.onload = () => {\n      resolve();\n    };\n  var firstScriptTag = document.getElementsByTagName('script')[0];\n  firstScriptTag.parentNode.insertBefore(tag, firstScriptTag);\n});\n};\n\nif(typeof $3Dmolpromise === 'undefined') {\n$3Dmolpromise = null;\n  $3Dmolpromise = loadScriptAsync('https://3dmol.org/build/3Dmol.js');\n}\n\nvar viewer_1633398882558082 = null;\nvar warn = document.getElementById(\"3dmolwarning_1633398882558082\");\nif(warn) {\n    warn.parentNode.removeChild(warn);\n}\n$3Dmolpromise.then(function() {\nviewer_1633398882558082 = $3Dmol.createViewer($(\"#3dmolviewer_1633398882558082\"),{backgroundColor:\"white\"});\nviewer_1633398882558082.zoomTo();\n\tviewer_1633398882558082.removeAllModels();\n\tviewer_1633398882558082.addModel(\"\\n     RDKit          3D\\n\\n  6  6  0  0  0  0  0  0  0  0999 V2000\\n    0.9664   -1.0253    0.0158 C   0  0  0  0  0  0  0  0  0  0  0  0\\n    1.3857    0.2378   -0.5781 C   0  0  0  0  0  0  0  0  0  0  0  0\\n    0.4245    1.3502   -0.6143 C   0  0  0  0  0  0  0  0  0  0  0  0\\n   -0.8954    1.0945    0.0353 C   0  0  0  0  0  0  0  0  0  0  0  0\\n   -1.4203   -0.2771   -0.2269 C   0  0  0  0  0  0  0  0  0  0  0  0\\n   -0.4608   -1.3801    0.0062 C   0  0  0  0  0  0  0  0  0  0  0  0\\n  1  2  1  0\\n  2  3  1  0\\n  3  4  1  0\\n  4  5  1  0\\n  5  6  1  0\\n  6  1  1  0\\nM  END\\n\",\"sdf\");\n\tviewer_1633398882558082.setStyle({\"stick\": {}});\n\tviewer_1633398882558082.setBackgroundColor(\"0xeeeeee\");\n\tviewer_1633398882558082.zoomTo();\nviewer_1633398882558082.render();\n});\n</script>",
            "text/html": [
              "<div id=\"3dmolviewer_1633398882558082\"  style=\"position: relative; width: 400px; height: 400px\">\n",
              "        <p id=\"3dmolwarning_1633398882558082\" style=\"background-color:#ffcccc;color:black\">You appear to be running in JupyterLab (or JavaScript failed to load for some other reason).  You need to install the 3dmol extension: <br>\n",
              "        <tt>jupyter labextension install jupyterlab_3dmol</tt></p>\n",
              "        </div>\n",
              "<script>\n",
              "\n",
              "var loadScriptAsync = function(uri){\n",
              "  return new Promise((resolve, reject) => {\n",
              "    var tag = document.createElement('script');\n",
              "    tag.src = uri;\n",
              "    tag.async = true;\n",
              "    tag.onload = () => {\n",
              "      resolve();\n",
              "    };\n",
              "  var firstScriptTag = document.getElementsByTagName('script')[0];\n",
              "  firstScriptTag.parentNode.insertBefore(tag, firstScriptTag);\n",
              "});\n",
              "};\n",
              "\n",
              "if(typeof $3Dmolpromise === 'undefined') {\n",
              "$3Dmolpromise = null;\n",
              "  $3Dmolpromise = loadScriptAsync('https://3dmol.org/build/3Dmol.js');\n",
              "}\n",
              "\n",
              "var viewer_1633398882558082 = null;\n",
              "var warn = document.getElementById(\"3dmolwarning_1633398882558082\");\n",
              "if(warn) {\n",
              "    warn.parentNode.removeChild(warn);\n",
              "}\n",
              "$3Dmolpromise.then(function() {\n",
              "viewer_1633398882558082 = $3Dmol.createViewer($(\"#3dmolviewer_1633398882558082\"),{backgroundColor:\"white\"});\n",
              "viewer_1633398882558082.zoomTo();\n",
              "\tviewer_1633398882558082.removeAllModels();\n",
              "\tviewer_1633398882558082.addModel(\"\\n     RDKit          3D\\n\\n  6  6  0  0  0  0  0  0  0  0999 V2000\\n    0.9664   -1.0253    0.0158 C   0  0  0  0  0  0  0  0  0  0  0  0\\n    1.3857    0.2378   -0.5781 C   0  0  0  0  0  0  0  0  0  0  0  0\\n    0.4245    1.3502   -0.6143 C   0  0  0  0  0  0  0  0  0  0  0  0\\n   -0.8954    1.0945    0.0353 C   0  0  0  0  0  0  0  0  0  0  0  0\\n   -1.4203   -0.2771   -0.2269 C   0  0  0  0  0  0  0  0  0  0  0  0\\n   -0.4608   -1.3801    0.0062 C   0  0  0  0  0  0  0  0  0  0  0  0\\n  1  2  1  0\\n  2  3  1  0\\n  3  4  1  0\\n  4  5  1  0\\n  5  6  1  0\\n  6  1  1  0\\nM  END\\n\",\"sdf\");\n",
              "\tviewer_1633398882558082.setStyle({\"stick\": {}});\n",
              "\tviewer_1633398882558082.setBackgroundColor(\"0xeeeeee\");\n",
              "\tviewer_1633398882558082.zoomTo();\n",
              "viewer_1633398882558082.render();\n",
              "});\n",
              "</script>"
            ]
          },
          "metadata": {}
        },
        {
          "output_type": "execute_result",
          "data": {
            "image/png": "[encoded data removed]",
            "text/html": [
              ""
            ],
            "text/plain": [
              "<rdkit.Chem.rdchem.Mol at 0x7ffa93a3f800>"
            ]
          },
          "metadata": {},
          "execution_count": 8
        }
      ]
    },
    {
      "cell_type": "markdown",
      "metadata": {
        "id": "mbAvUo4pgHZZ"
      },
      "source": [
        "## Examples"
      ]
    },
    {
      "cell_type": "code",
      "metadata": {
        "id": "HJgljxQDGx5R"
      },
      "source": [
        "xyz = '''4\n",
        "* (null), Energy   -1000.0000000\n",
        "N     0.000005    0.019779   -0.000003   -0.157114    0.000052   -0.012746\n",
        "H     0.931955   -0.364989    0.000003    1.507100   -0.601158   -0.004108\n",
        "H    -0.465975   -0.364992    0.807088    0.283368    0.257996   -0.583024\n",
        "H    -0.465979   -0.364991   -0.807088    0.392764    0.342436    0.764260\n",
        "'''"
      ],
      "execution_count": null,
      "outputs": []
    },
    {
      "cell_type": "code",
      "metadata": {
        "id": "L0V8SwajGx5U",
        "colab": {
          "base_uri": "https://localhost:8080/",
          "height": 416
        },
        "outputId": "2a5c6d73-2b40-4e68-c3db-05275059d481"
      },
      "source": [
        "xyzview = py3Dmol.view(width=400,height=400)\n",
        "xyzview.addModel(xyz,'xyz',{'vibrate': {'frames':10,'amplitude':1}})\n",
        "xyzview.setStyle({'stick':{}})\n",
        "xyzview.setBackgroundColor('0xeeeeee')\n",
        "xyzview.animate({'loop': 'backAndForth'})\n",
        "xyzview.zoomTo()\n",
        "xyzview.show()"
      ],
      "execution_count": null,
      "outputs": [
        {
          "output_type": "display_data",
          "data": {
            "application/3dmoljs_load.v0": "<div id=\"3dmolviewer_1633398882593893\"  style=\"position: relative; width: 400px; height: 400px\">\n        <p id=\"3dmolwarning_1633398882593893\" style=\"background-color:#ffcccc;color:black\">You appear to be running in JupyterLab (or JavaScript failed to load for some other reason).  You need to install the 3dmol extension: <br>\n        <tt>jupyter labextension install jupyterlab_3dmol</tt></p>\n        </div>\n<script>\n\nvar loadScriptAsync = function(uri){\n  return new Promise((resolve, reject) => {\n    var tag = document.createElement('script');\n    tag.src = uri;\n    tag.async = true;\n    tag.onload = () => {\n      resolve();\n    };\n  var firstScriptTag = document.getElementsByTagName('script')[0];\n  firstScriptTag.parentNode.insertBefore(tag, firstScriptTag);\n});\n};\n\nif(typeof $3Dmolpromise === 'undefined') {\n$3Dmolpromise = null;\n  $3Dmolpromise = loadScriptAsync('https://3dmol.org/build/3Dmol.js');\n}\n\nvar viewer_1633398882593893 = null;\nvar warn = document.getElementById(\"3dmolwarning_1633398882593893\");\nif(warn) {\n    warn.parentNode.removeChild(warn);\n}\n$3Dmolpromise.then(function() {\nviewer_1633398882593893 = $3Dmol.createViewer($(\"#3dmolviewer_1633398882593893\"),{backgroundColor:\"white\"});\nviewer_1633398882593893.zoomTo();\n\tviewer_1633398882593893.addModel(\"4\\n* (null), Energy   -1000.0000000\\nN     0.000005    0.019779   -0.000003   -0.157114    0.000052   -0.012746\\nH     0.931955   -0.364989    0.000003    1.507100   -0.601158   -0.004108\\nH    -0.465975   -0.364992    0.807088    0.283368    0.257996   -0.583024\\nH    -0.465979   -0.364991   -0.807088    0.392764    0.342436    0.764260\\n\",\"xyz\",{\"vibrate\": {\"frames\": 10, \"amplitude\": 1}});\n\tviewer_1633398882593893.setStyle({\"stick\": {}});\n\tviewer_1633398882593893.setBackgroundColor(\"0xeeeeee\");\n\tviewer_1633398882593893.animate({\"loop\": \"backAndForth\"});\n\tviewer_1633398882593893.zoomTo();\nviewer_1633398882593893.render();\n});\n</script>",
            "text/html": [
              "<div id=\"3dmolviewer_1633398882593893\"  style=\"position: relative; width: 400px; height: 400px\">\n",
              "        <p id=\"3dmolwarning_1633398882593893\" style=\"background-color:#ffcccc;color:black\">You appear to be running in JupyterLab (or JavaScript failed to load for some other reason).  You need to install the 3dmol extension: <br>\n",
              "        <tt>jupyter labextension install jupyterlab_3dmol</tt></p>\n",
              "        </div>\n",
              "<script>\n",
              "\n",
              "var loadScriptAsync = function(uri){\n",
              "  return new Promise((resolve, reject) => {\n",
              "    var tag = document.createElement('script');\n",
              "    tag.src = uri;\n",
              "    tag.async = true;\n",
              "    tag.onload = () => {\n",
              "      resolve();\n",
              "    };\n",
              "  var firstScriptTag = document.getElementsByTagName('script')[0];\n",
              "  firstScriptTag.parentNode.insertBefore(tag, firstScriptTag);\n",
              "});\n",
              "};\n",
              "\n",
              "if(typeof $3Dmolpromise === 'undefined') {\n",
              "$3Dmolpromise = null;\n",
              "  $3Dmolpromise = loadScriptAsync('https://3dmol.org/build/3Dmol.js');\n",
              "}\n",
              "\n",
              "var viewer_1633398882593893 = null;\n",
              "var warn = document.getElementById(\"3dmolwarning_1633398882593893\");\n",
              "if(warn) {\n",
              "    warn.parentNode.removeChild(warn);\n",
              "}\n",
              "$3Dmolpromise.then(function() {\n",
              "viewer_1633398882593893 = $3Dmol.createViewer($(\"#3dmolviewer_1633398882593893\"),{backgroundColor:\"white\"});\n",
              "viewer_1633398882593893.zoomTo();\n",
              "\tviewer_1633398882593893.addModel(\"4\\n* (null), Energy   -1000.0000000\\nN     0.000005    0.019779   -0.000003   -0.157114    0.000052   -0.012746\\nH     0.931955   -0.364989    0.000003    1.507100   -0.601158   -0.004108\\nH    -0.465975   -0.364992    0.807088    0.283368    0.257996   -0.583024\\nH    -0.465979   -0.364991   -0.807088    0.392764    0.342436    0.764260\\n\",\"xyz\",{\"vibrate\": {\"frames\": 10, \"amplitude\": 1}});\n",
              "\tviewer_1633398882593893.setStyle({\"stick\": {}});\n",
              "\tviewer_1633398882593893.setBackgroundColor(\"0xeeeeee\");\n",
              "\tviewer_1633398882593893.animate({\"loop\": \"backAndForth\"});\n",
              "\tviewer_1633398882593893.zoomTo();\n",
              "viewer_1633398882593893.render();\n",
              "});\n",
              "</script>"
            ]
          },
          "metadata": {}
        }
      ]
    },
    {
      "cell_type": "markdown",
      "metadata": {
        "id": "4hOvXO7gGx5Y"
      },
      "source": [
        "Display local file."
      ]
    },
    {
      "cell_type": "code",
      "metadata": {
        "id": "ejxuswl7Gx5Z",
        "colab": {
          "base_uri": "https://localhost:8080/",
          "height": 496
        },
        "outputId": "9c2e8c42-98a0-4707-a6cc-f2aa4ed8b448"
      },
      "source": [
        "benz='''\n",
        "     RDKit          3D\n",
        "\n",
        "  6  6  0  0  0  0  0  0  0  0999 V2000\n",
        "   -0.9517    0.7811   -0.6622 C   0  0  0  0  0  0  0  0  0  0  0  0\n",
        "    0.2847    1.3329   -0.3121 C   0  0  0  0  0  0  0  0  0  0  0  0\n",
        "    1.2365    0.5518    0.3512 C   0  0  0  0  0  0  0  0  0  0  0  0\n",
        "    0.9517   -0.7811    0.6644 C   0  0  0  0  0  0  0  0  0  0  0  0\n",
        "   -0.2847   -1.3329    0.3144 C   0  0  0  0  0  0  0  0  0  0  0  0\n",
        "   -1.2365   -0.5518   -0.3489 C   0  0  0  0  0  0  0  0  0  0  0  0\n",
        "  1  2  2  0\n",
        "  2  3  1  0\n",
        "  3  4  2  0\n",
        "  4  5  1  0\n",
        "  5  6  2  0\n",
        "  6  1  1  0\n",
        "M  END\n",
        "$$$$'''\n",
        "view = py3Dmol.view(data=benz,style={'stick':{'colorscheme':'cyanCarbon'}})\n",
        "view.show()"
      ],
      "execution_count": null,
      "outputs": [
        {
          "output_type": "display_data",
          "data": {
            "application/3dmoljs_load.v0": "<div id=\"3dmolviewer_16333988826067379\"  style=\"position: relative; width: 640px; height: 480px\">\n        <p id=\"3dmolwarning_16333988826067379\" style=\"background-color:#ffcccc;color:black\">You appear to be running in JupyterLab (or JavaScript failed to load for some other reason).  You need to install the 3dmol extension: <br>\n        <tt>jupyter labextension install jupyterlab_3dmol</tt></p>\n        </div>\n<script>\n\nvar loadScriptAsync = function(uri){\n  return new Promise((resolve, reject) => {\n    var tag = document.createElement('script');\n    tag.src = uri;\n    tag.async = true;\n    tag.onload = () => {\n      resolve();\n    };\n  var firstScriptTag = document.getElementsByTagName('script')[0];\n  firstScriptTag.parentNode.insertBefore(tag, firstScriptTag);\n});\n};\n\nif(typeof $3Dmolpromise === 'undefined') {\n$3Dmolpromise = null;\n  $3Dmolpromise = loadScriptAsync('https://3dmol.org/build/3Dmol.js');\n}\n\nvar viewer_16333988826067379 = null;\nvar warn = document.getElementById(\"3dmolwarning_16333988826067379\");\nif(warn) {\n    warn.parentNode.removeChild(warn);\n}\n$3Dmolpromise.then(function() {\nviewer_16333988826067379 = $3Dmol.createViewer($(\"#3dmolviewer_16333988826067379\"),{backgroundColor:\"white\"});\nviewer_16333988826067379.addModel(\"\\n     RDKit          3D\\n\\n  6  6  0  0  0  0  0  0  0  0999 V2000\\n   -0.9517    0.7811   -0.6622 C   0  0  0  0  0  0  0  0  0  0  0  0\\n    0.2847    1.3329   -0.3121 C   0  0  0  0  0  0  0  0  0  0  0  0\\n    1.2365    0.5518    0.3512 C   0  0  0  0  0  0  0  0  0  0  0  0\\n    0.9517   -0.7811    0.6644 C   0  0  0  0  0  0  0  0  0  0  0  0\\n   -0.2847   -1.3329    0.3144 C   0  0  0  0  0  0  0  0  0  0  0  0\\n   -1.2365   -0.5518   -0.3489 C   0  0  0  0  0  0  0  0  0  0  0  0\\n  1  2  2  0\\n  2  3  1  0\\n  3  4  2  0\\n  4  5  1  0\\n  5  6  2  0\\n  6  1  1  0\\nM  END\\n$$$$\");\nviewer_16333988826067379.setStyle({\"stick\": {\"colorscheme\": \"cyanCarbon\"}});\nviewer_16333988826067379.zoomTo();\nviewer_16333988826067379.render();\n});\n</script>",
            "text/html": [
              "<div id=\"3dmolviewer_16333988826067379\"  style=\"position: relative; width: 640px; height: 480px\">\n",
              "        <p id=\"3dmolwarning_16333988826067379\" style=\"background-color:#ffcccc;color:black\">You appear to be running in JupyterLab (or JavaScript failed to load for some other reason).  You need to install the 3dmol extension: <br>\n",
              "        <tt>jupyter labextension install jupyterlab_3dmol</tt></p>\n",
              "        </div>\n",
              "<script>\n",
              "\n",
              "var loadScriptAsync = function(uri){\n",
              "  return new Promise((resolve, reject) => {\n",
              "    var tag = document.createElement('script');\n",
              "    tag.src = uri;\n",
              "    tag.async = true;\n",
              "    tag.onload = () => {\n",
              "      resolve();\n",
              "    };\n",
              "  var firstScriptTag = document.getElementsByTagName('script')[0];\n",
              "  firstScriptTag.parentNode.insertBefore(tag, firstScriptTag);\n",
              "});\n",
              "};\n",
              "\n",
              "if(typeof $3Dmolpromise === 'undefined') {\n",
              "$3Dmolpromise = null;\n",
              "  $3Dmolpromise = loadScriptAsync('https://3dmol.org/build/3Dmol.js');\n",
              "}\n",
              "\n",
              "var viewer_16333988826067379 = null;\n",
              "var warn = document.getElementById(\"3dmolwarning_16333988826067379\");\n",
              "if(warn) {\n",
              "    warn.parentNode.removeChild(warn);\n",
              "}\n",
              "$3Dmolpromise.then(function() {\n",
              "viewer_16333988826067379 = $3Dmol.createViewer($(\"#3dmolviewer_16333988826067379\"),{backgroundColor:\"white\"});\n",
              "viewer_16333988826067379.addModel(\"\\n     RDKit          3D\\n\\n  6  6  0  0  0  0  0  0  0  0999 V2000\\n   -0.9517    0.7811   -0.6622 C   0  0  0  0  0  0  0  0  0  0  0  0\\n    0.2847    1.3329   -0.3121 C   0  0  0  0  0  0  0  0  0  0  0  0\\n    1.2365    0.5518    0.3512 C   0  0  0  0  0  0  0  0  0  0  0  0\\n    0.9517   -0.7811    0.6644 C   0  0  0  0  0  0  0  0  0  0  0  0\\n   -0.2847   -1.3329    0.3144 C   0  0  0  0  0  0  0  0  0  0  0  0\\n   -1.2365   -0.5518   -0.3489 C   0  0  0  0  0  0  0  0  0  0  0  0\\n  1  2  2  0\\n  2  3  1  0\\n  3  4  2  0\\n  4  5  1  0\\n  5  6  2  0\\n  6  1  1  0\\nM  END\\n$$$$\");\n",
              "viewer_16333988826067379.setStyle({\"stick\": {\"colorscheme\": \"cyanCarbon\"}});\n",
              "viewer_16333988826067379.zoomTo();\n",
              "viewer_16333988826067379.render();\n",
              "});\n",
              "</script>"
            ]
          },
          "metadata": {}
        }
      ]
    },
    {
      "cell_type": "markdown",
      "metadata": {
        "id": "mp2qaHk6Gx5c"
      },
      "source": [
        "You can create a single canvas object with multiple viewers arrayed in a grid (3Dmol.createViewerGrid)."
      ]
    },
    {
      "cell_type": "code",
      "metadata": {
        "id": "3uNCGj3DGx5d",
        "colab": {
          "base_uri": "https://localhost:8080/",
          "height": 515
        },
        "outputId": "dba1dc86-ca01-4f76-c3de-54872ce4a660"
      },
      "source": [
        "view = py3Dmol.view(query='pdb:1dc9',linked=False,viewergrid=(2,2))\n",
        "view.setViewStyle({'style':'outline','color':'black','width':0.1})\n",
        "view.setStyle({'cartoon':{'arrows':True, 'tubes':True, 'style':'oval', 'color':'white'}},viewer=(0,1))\n",
        "view.setStyle({'stick':{'colorscheme':'greenCarbon'}},viewer=(1,0))\n",
        "view.setStyle({'cartoon':{'color':'spectrum'}},viewer=(1,1))\n",
        "view.removeAllModels(viewer=(0,0))\n",
        "view.addModel(benz,'sdf',viewer=(0,0))\n",
        "view.setStyle({'stick':{}},viewer=(0,0))\n",
        "view.zoomTo(viewer=(0,0))\n",
        "view.render()"
      ],
      "execution_count": null,
      "outputs": [
        {
          "output_type": "display_data",
          "data": {
            "application/3dmoljs_load.v0": "<div id=\"3dmolviewer_1633398882631336\"  style=\"position: relative; width: 640px; height: 480px\">\n        <p id=\"3dmolwarning_1633398882631336\" style=\"background-color:#ffcccc;color:black\">You appear to be running in JupyterLab (or JavaScript failed to load for some other reason).  You need to install the 3dmol extension: <br>\n        <tt>jupyter labextension install jupyterlab_3dmol</tt></p>\n        </div>\n<script>\n\nvar loadScriptAsync = function(uri){\n  return new Promise((resolve, reject) => {\n    var tag = document.createElement('script');\n    tag.src = uri;\n    tag.async = true;\n    tag.onload = () => {\n      resolve();\n    };\n  var firstScriptTag = document.getElementsByTagName('script')[0];\n  firstScriptTag.parentNode.insertBefore(tag, firstScriptTag);\n});\n};\n\nif(typeof $3Dmolpromise === 'undefined') {\n$3Dmolpromise = null;\n  $3Dmolpromise = loadScriptAsync('https://3dmol.org/build/3Dmol.js');\n}\n\nvar viewer_1633398882631336 = null;\nvar warn = document.getElementById(\"3dmolwarning_1633398882631336\");\nif(warn) {\n    warn.parentNode.removeChild(warn);\n}\n$3Dmolpromise.then(function() {\nvar viewergrid_1633398882631336 = null;\nviewergrid_1633398882631336 = $3Dmol.createViewerGrid($(\"#3dmolviewer_1633398882631336\"),{rows: 2, cols: 2, control_all: false},{backgroundColor:\"white\"});\nviewer_1633398882631336 = viewergrid_1633398882631336[0][0];\n$3Dmol.download(\"pdb:1dc9\", viewergrid_1633398882631336[0][0], {}, function() {\n$3Dmol.download(\"pdb:1dc9\", viewergrid_1633398882631336[0][1], {}, function() {\n$3Dmol.download(\"pdb:1dc9\", viewergrid_1633398882631336[1][0], {}, function() {\n$3Dmol.download(\"pdb:1dc9\", viewergrid_1633398882631336[1][1], {}, function() {\nviewergrid_1633398882631336[0][0].zoomTo();viewergrid_1633398882631336[0][1].zoomTo();viewergrid_1633398882631336[1][0].zoomTo();viewergrid_1633398882631336[1][1].zoomTo();\tviewergrid_1633398882631336[0][0].setViewStyle({\"style\": \"outline\", \"color\": \"black\", \"width\": 0.1});\n\tviewergrid_1633398882631336[0][1].setViewStyle({\"style\": \"outline\", \"color\": \"black\", \"width\": 0.1});\n\tviewergrid_1633398882631336[1][0].setViewStyle({\"style\": \"outline\", \"color\": \"black\", \"width\": 0.1});\n\tviewergrid_1633398882631336[1][1].setViewStyle({\"style\": \"outline\", \"color\": \"black\", \"width\": 0.1});\n\tviewergrid_1633398882631336[0][1].setStyle({\"cartoon\": {\"arrows\": true, \"tubes\": true, \"style\": \"oval\", \"color\": \"white\"}});\n\tviewergrid_1633398882631336[1][0].setStyle({\"stick\": {\"colorscheme\": \"greenCarbon\"}});\n\tviewergrid_1633398882631336[1][1].setStyle({\"cartoon\": {\"color\": \"spectrum\"}});\n\tviewergrid_1633398882631336[0][0].removeAllModels();\n\tviewergrid_1633398882631336[0][0].addModel(\"\\n     RDKit          3D\\n\\n  6  6  0  0  0  0  0  0  0  0999 V2000\\n   -0.9517    0.7811   -0.6622 C   0  0  0  0  0  0  0  0  0  0  0  0\\n    0.2847    1.3329   -0.3121 C   0  0  0  0  0  0  0  0  0  0  0  0\\n    1.2365    0.5518    0.3512 C   0  0  0  0  0  0  0  0  0  0  0  0\\n    0.9517   -0.7811    0.6644 C   0  0  0  0  0  0  0  0  0  0  0  0\\n   -0.2847   -1.3329    0.3144 C   0  0  0  0  0  0  0  0  0  0  0  0\\n   -1.2365   -0.5518   -0.3489 C   0  0  0  0  0  0  0  0  0  0  0  0\\n  1  2  2  0\\n  2  3  1  0\\n  3  4  2  0\\n  4  5  1  0\\n  5  6  2  0\\n  6  1  1  0\\nM  END\\n$$$$\",\"sdf\");\n\tviewergrid_1633398882631336[0][0].setStyle({\"stick\": {}});\n\tviewergrid_1633398882631336[0][0].zoomTo();\n\tviewergrid_1633398882631336[0][0].render();\n\tviewergrid_1633398882631336[0][1].render();\n\tviewergrid_1633398882631336[1][0].render();\n\tviewergrid_1633398882631336[1][1].render();\nviewergrid_1633398882631336[1][1].render();\nviewergrid_1633398882631336[1][0].render();\nviewergrid_1633398882631336[0][1].render();\nviewergrid_1633398882631336[0][0].render();\n})\n})\n})\n})\n});\n</script>",
            "text/html": [
              "<div id=\"3dmolviewer_1633398882631336\"  style=\"position: relative; width: 640px; height: 480px\">\n",
              "        <p id=\"3dmolwarning_1633398882631336\" style=\"background-color:#ffcccc;color:black\">You appear to be running in JupyterLab (or JavaScript failed to load for some other reason).  You need to install the 3dmol extension: <br>\n",
              "        <tt>jupyter labextension install jupyterlab_3dmol</tt></p>\n",
              "        </div>\n",
              "<script>\n",
              "\n",
              "var loadScriptAsync = function(uri){\n",
              "  return new Promise((resolve, reject) => {\n",
              "    var tag = document.createElement('script');\n",
              "    tag.src = uri;\n",
              "    tag.async = true;\n",
              "    tag.onload = () => {\n",
              "      resolve();\n",
              "    };\n",
              "  var firstScriptTag = document.getElementsByTagName('script')[0];\n",
              "  firstScriptTag.parentNode.insertBefore(tag, firstScriptTag);\n",
              "});\n",
              "};\n",
              "\n",
              "if(typeof $3Dmolpromise === 'undefined') {\n",
              "$3Dmolpromise = null;\n",
              "  $3Dmolpromise = loadScriptAsync('https://3dmol.org/build/3Dmol.js');\n",
              "}\n",
              "\n",
              "var viewer_1633398882631336 = null;\n",
              "var warn = document.getElementById(\"3dmolwarning_1633398882631336\");\n",
              "if(warn) {\n",
              "    warn.parentNode.removeChild(warn);\n",
              "}\n",
              "$3Dmolpromise.then(function() {\n",
              "var viewergrid_1633398882631336 = null;\n",
              "viewergrid_1633398882631336 = $3Dmol.createViewerGrid($(\"#3dmolviewer_1633398882631336\"),{rows: 2, cols: 2, control_all: false},{backgroundColor:\"white\"});\n",
              "viewer_1633398882631336 = viewergrid_1633398882631336[0][0];\n",
              "$3Dmol.download(\"pdb:1dc9\", viewergrid_1633398882631336[0][0], {}, function() {\n",
              "$3Dmol.download(\"pdb:1dc9\", viewergrid_1633398882631336[0][1], {}, function() {\n",
              "$3Dmol.download(\"pdb:1dc9\", viewergrid_1633398882631336[1][0], {}, function() {\n",
              "$3Dmol.download(\"pdb:1dc9\", viewergrid_1633398882631336[1][1], {}, function() {\n",
              "viewergrid_1633398882631336[0][0].zoomTo();viewergrid_1633398882631336[0][1].zoomTo();viewergrid_1633398882631336[1][0].zoomTo();viewergrid_1633398882631336[1][1].zoomTo();\tviewergrid_1633398882631336[0][0].setViewStyle({\"style\": \"outline\", \"color\": \"black\", \"width\": 0.1});\n",
              "\tviewergrid_1633398882631336[0][1].setViewStyle({\"style\": \"outline\", \"color\": \"black\", \"width\": 0.1});\n",
              "\tviewergrid_1633398882631336[1][0].setViewStyle({\"style\": \"outline\", \"color\": \"black\", \"width\": 0.1});\n",
              "\tviewergrid_1633398882631336[1][1].setViewStyle({\"style\": \"outline\", \"color\": \"black\", \"width\": 0.1});\n",
              "\tviewergrid_1633398882631336[0][1].setStyle({\"cartoon\": {\"arrows\": true, \"tubes\": true, \"style\": \"oval\", \"color\": \"white\"}});\n",
              "\tviewergrid_1633398882631336[1][0].setStyle({\"stick\": {\"colorscheme\": \"greenCarbon\"}});\n",
              "\tviewergrid_1633398882631336[1][1].setStyle({\"cartoon\": {\"color\": \"spectrum\"}});\n",
              "\tviewergrid_1633398882631336[0][0].removeAllModels();\n",
              "\tviewergrid_1633398882631336[0][0].addModel(\"\\n     RDKit          3D\\n\\n  6  6  0  0  0  0  0  0  0  0999 V2000\\n   -0.9517    0.7811   -0.6622 C   0  0  0  0  0  0  0  0  0  0  0  0\\n    0.2847    1.3329   -0.3121 C   0  0  0  0  0  0  0  0  0  0  0  0\\n    1.2365    0.5518    0.3512 C   0  0  0  0  0  0  0  0  0  0  0  0\\n    0.9517   -0.7811    0.6644 C   0  0  0  0  0  0  0  0  0  0  0  0\\n   -0.2847   -1.3329    0.3144 C   0  0  0  0  0  0  0  0  0  0  0  0\\n   -1.2365   -0.5518   -0.3489 C   0  0  0  0  0  0  0  0  0  0  0  0\\n  1  2  2  0\\n  2  3  1  0\\n  3  4  2  0\\n  4  5  1  0\\n  5  6  2  0\\n  6  1  1  0\\nM  END\\n$$$$\",\"sdf\");\n",
              "\tviewergrid_1633398882631336[0][0].setStyle({\"stick\": {}});\n",
              "\tviewergrid_1633398882631336[0][0].zoomTo();\n",
              "\tviewergrid_1633398882631336[0][0].render();\n",
              "\tviewergrid_1633398882631336[0][1].render();\n",
              "\tviewergrid_1633398882631336[1][0].render();\n",
              "\tviewergrid_1633398882631336[1][1].render();\n",
              "viewergrid_1633398882631336[1][1].render();\n",
              "viewergrid_1633398882631336[1][0].render();\n",
              "viewergrid_1633398882631336[0][1].render();\n",
              "viewergrid_1633398882631336[0][0].render();\n",
              "})\n",
              "})\n",
              "})\n",
              "})\n",
              "});\n",
              "</script>"
            ]
          },
          "metadata": {}
        },
        {
          "output_type": "execute_result",
          "data": {
            "text/plain": [
              "<py3Dmol.view at 0x7ffa93a58dd0>"
            ]
          },
          "metadata": {},
          "execution_count": 12
        }
      ]
    },
    {
      "cell_type": "code",
      "metadata": {
        "id": "0N6PEYCyGx5g",
        "colab": {
          "base_uri": "https://localhost:8080/",
          "height": 496
        },
        "outputId": "4caba367-09a6-439b-a967-3a912f064f04"
      },
      "source": [
        "view = py3Dmol.view(query='pdb:1ycr')\n",
        "chA = {'chain':'A'}\n",
        "chB = {'chain':'B'}\n",
        "view.setStyle(chA,{'cartoon': {'color':'spectrum'}})\n",
        "view.addSurface(py3Dmol.VDW,{'opacity':0.7,'color':'white'}, chA)\n",
        "view.setStyle(chB,{'stick':{}})\n",
        "view.show()"
      ],
      "execution_count": null,
      "outputs": [
        {
          "output_type": "display_data",
          "data": {
            "application/3dmoljs_load.v0": "<div id=\"3dmolviewer_16333988826570008\"  style=\"position: relative; width: 640px; height: 480px\">\n        <p id=\"3dmolwarning_16333988826570008\" style=\"background-color:#ffcccc;color:black\">You appear to be running in JupyterLab (or JavaScript failed to load for some other reason).  You need to install the 3dmol extension: <br>\n        <tt>jupyter labextension install jupyterlab_3dmol</tt></p>\n        </div>\n<script>\n\nvar loadScriptAsync = function(uri){\n  return new Promise((resolve, reject) => {\n    var tag = document.createElement('script');\n    tag.src = uri;\n    tag.async = true;\n    tag.onload = () => {\n      resolve();\n    };\n  var firstScriptTag = document.getElementsByTagName('script')[0];\n  firstScriptTag.parentNode.insertBefore(tag, firstScriptTag);\n});\n};\n\nif(typeof $3Dmolpromise === 'undefined') {\n$3Dmolpromise = null;\n  $3Dmolpromise = loadScriptAsync('https://3dmol.org/build/3Dmol.js');\n}\n\nvar viewer_16333988826570008 = null;\nvar warn = document.getElementById(\"3dmolwarning_16333988826570008\");\nif(warn) {\n    warn.parentNode.removeChild(warn);\n}\n$3Dmolpromise.then(function() {\nviewer_16333988826570008 = $3Dmol.createViewer($(\"#3dmolviewer_16333988826570008\"),{backgroundColor:\"white\"});\n$3Dmol.download(\"pdb:1ycr\", viewer_16333988826570008, {}, function() {\nviewer_16333988826570008.zoomTo();\n\tviewer_16333988826570008.setStyle({\"chain\": \"A\"},{\"cartoon\": {\"color\": \"spectrum\"}});\n\tviewer_16333988826570008.addSurface(1,{\"opacity\": 0.7, \"color\": \"white\"},{\"chain\": \"A\"});\n\tviewer_16333988826570008.setStyle({\"chain\": \"B\"},{\"stick\": {}});\nviewer_16333988826570008.render();\n})\n});\n</script>",
            "text/html": [
              "<div id=\"3dmolviewer_16333988826570008\"  style=\"position: relative; width: 640px; height: 480px\">\n",
              "        <p id=\"3dmolwarning_16333988826570008\" style=\"background-color:#ffcccc;color:black\">You appear to be running in JupyterLab (or JavaScript failed to load for some other reason).  You need to install the 3dmol extension: <br>\n",
              "        <tt>jupyter labextension install jupyterlab_3dmol</tt></p>\n",
              "        </div>\n",
              "<script>\n",
              "\n",
              "var loadScriptAsync = function(uri){\n",
              "  return new Promise((resolve, reject) => {\n",
              "    var tag = document.createElement('script');\n",
              "    tag.src = uri;\n",
              "    tag.async = true;\n",
              "    tag.onload = () => {\n",
              "      resolve();\n",
              "    };\n",
              "  var firstScriptTag = document.getElementsByTagName('script')[0];\n",
              "  firstScriptTag.parentNode.insertBefore(tag, firstScriptTag);\n",
              "});\n",
              "};\n",
              "\n",
              "if(typeof $3Dmolpromise === 'undefined') {\n",
              "$3Dmolpromise = null;\n",
              "  $3Dmolpromise = loadScriptAsync('https://3dmol.org/build/3Dmol.js');\n",
              "}\n",
              "\n",
              "var viewer_16333988826570008 = null;\n",
              "var warn = document.getElementById(\"3dmolwarning_16333988826570008\");\n",
              "if(warn) {\n",
              "    warn.parentNode.removeChild(warn);\n",
              "}\n",
              "$3Dmolpromise.then(function() {\n",
              "viewer_16333988826570008 = $3Dmol.createViewer($(\"#3dmolviewer_16333988826570008\"),{backgroundColor:\"white\"});\n",
              "$3Dmol.download(\"pdb:1ycr\", viewer_16333988826570008, {}, function() {\n",
              "viewer_16333988826570008.zoomTo();\n",
              "\tviewer_16333988826570008.setStyle({\"chain\": \"A\"},{\"cartoon\": {\"color\": \"spectrum\"}});\n",
              "\tviewer_16333988826570008.addSurface(1,{\"opacity\": 0.7, \"color\": \"white\"},{\"chain\": \"A\"});\n",
              "\tviewer_16333988826570008.setStyle({\"chain\": \"B\"},{\"stick\": {}});\n",
              "viewer_16333988826570008.render();\n",
              "})\n",
              "});\n",
              "</script>"
            ]
          },
          "metadata": {}
        }
      ]
    },
    {
      "cell_type": "code",
      "metadata": {
        "id": "SSsF9Nh_Gx5j",
        "colab": {
          "base_uri": "https://localhost:8080/",
          "height": 496
        },
        "outputId": "f30fc00b-eb66-4d59-facd-770a54889eb9"
      },
      "source": [
        "view = py3Dmol.view(query='pdb:5ire',options={'doAssembly':True})\n",
        "view.setStyle({'cartoon':{'color':'spectrum'}})\n",
        "view.show()"
      ],
      "execution_count": null,
      "outputs": [
        {
          "output_type": "display_data",
          "data": {
            "application/3dmoljs_load.v0": "<div id=\"3dmolviewer_1633398882668916\"  style=\"position: relative; width: 640px; height: 480px\">\n        <p id=\"3dmolwarning_1633398882668916\" style=\"background-color:#ffcccc;color:black\">You appear to be running in JupyterLab (or JavaScript failed to load for some other reason).  You need to install the 3dmol extension: <br>\n        <tt>jupyter labextension install jupyterlab_3dmol</tt></p>\n        </div>\n<script>\n\nvar loadScriptAsync = function(uri){\n  return new Promise((resolve, reject) => {\n    var tag = document.createElement('script');\n    tag.src = uri;\n    tag.async = true;\n    tag.onload = () => {\n      resolve();\n    };\n  var firstScriptTag = document.getElementsByTagName('script')[0];\n  firstScriptTag.parentNode.insertBefore(tag, firstScriptTag);\n});\n};\n\nif(typeof $3Dmolpromise === 'undefined') {\n$3Dmolpromise = null;\n  $3Dmolpromise = loadScriptAsync('https://3dmol.org/build/3Dmol.js');\n}\n\nvar viewer_1633398882668916 = null;\nvar warn = document.getElementById(\"3dmolwarning_1633398882668916\");\nif(warn) {\n    warn.parentNode.removeChild(warn);\n}\n$3Dmolpromise.then(function() {\nviewer_1633398882668916 = $3Dmol.createViewer($(\"#3dmolviewer_1633398882668916\"),{backgroundColor:\"white\"});\n$3Dmol.download(\"pdb:5ire\", viewer_1633398882668916, {\"doAssembly\": true}, function() {\nviewer_1633398882668916.zoomTo();\n\tviewer_1633398882668916.setStyle({\"cartoon\": {\"color\": \"spectrum\"}});\nviewer_1633398882668916.render();\n})\n});\n</script>",
            "text/html": [
              "<div id=\"3dmolviewer_1633398882668916\"  style=\"position: relative; width: 640px; height: 480px\">\n",
              "        <p id=\"3dmolwarning_1633398882668916\" style=\"background-color:#ffcccc;color:black\">You appear to be running in JupyterLab (or JavaScript failed to load for some other reason).  You need to install the 3dmol extension: <br>\n",
              "        <tt>jupyter labextension install jupyterlab_3dmol</tt></p>\n",
              "        </div>\n",
              "<script>\n",
              "\n",
              "var loadScriptAsync = function(uri){\n",
              "  return new Promise((resolve, reject) => {\n",
              "    var tag = document.createElement('script');\n",
              "    tag.src = uri;\n",
              "    tag.async = true;\n",
              "    tag.onload = () => {\n",
              "      resolve();\n",
              "    };\n",
              "  var firstScriptTag = document.getElementsByTagName('script')[0];\n",
              "  firstScriptTag.parentNode.insertBefore(tag, firstScriptTag);\n",
              "});\n",
              "};\n",
              "\n",
              "if(typeof $3Dmolpromise === 'undefined') {\n",
              "$3Dmolpromise = null;\n",
              "  $3Dmolpromise = loadScriptAsync('https://3dmol.org/build/3Dmol.js');\n",
              "}\n",
              "\n",
              "var viewer_1633398882668916 = null;\n",
              "var warn = document.getElementById(\"3dmolwarning_1633398882668916\");\n",
              "if(warn) {\n",
              "    warn.parentNode.removeChild(warn);\n",
              "}\n",
              "$3Dmolpromise.then(function() {\n",
              "viewer_1633398882668916 = $3Dmol.createViewer($(\"#3dmolviewer_1633398882668916\"),{backgroundColor:\"white\"});\n",
              "$3Dmol.download(\"pdb:5ire\", viewer_1633398882668916, {\"doAssembly\": true}, function() {\n",
              "viewer_1633398882668916.zoomTo();\n",
              "\tviewer_1633398882668916.setStyle({\"cartoon\": {\"color\": \"spectrum\"}});\n",
              "viewer_1633398882668916.render();\n",
              "})\n",
              "});\n",
              "</script>"
            ]
          },
          "metadata": {}
        }
      ]
    },
    {
      "cell_type": "markdown",
      "metadata": {
        "id": "FCmLZ7tIGx5m"
      },
      "source": [
        "Color by temperature factors"
      ]
    },
    {
      "cell_type": "code",
      "metadata": {
        "id": "U420WW_tGx5m",
        "colab": {
          "base_uri": "https://localhost:8080/",
          "height": 515
        },
        "outputId": "6ead0b0d-aa43-4311-c535-e222032d6450"
      },
      "source": [
        "view = py3Dmol.view(query='pdb:1ycr')\n",
        "view.setStyle({'cartoon': {'color':'white'}})\n",
        "view.addSurface(py3Dmol.VDW,{'opacity':0.7,'colorscheme':{'prop':'b','gradient':'sinebow','min':0,'max':70}})"
      ],
      "execution_count": null,
      "outputs": [
        {
          "output_type": "display_data",
          "data": {
            "application/3dmoljs_load.v0": "<div id=\"3dmolviewer_16333988826821678\"  style=\"position: relative; width: 640px; height: 480px\">\n        <p id=\"3dmolwarning_16333988826821678\" style=\"background-color:#ffcccc;color:black\">You appear to be running in JupyterLab (or JavaScript failed to load for some other reason).  You need to install the 3dmol extension: <br>\n        <tt>jupyter labextension install jupyterlab_3dmol</tt></p>\n        </div>\n<script>\n\nvar loadScriptAsync = function(uri){\n  return new Promise((resolve, reject) => {\n    var tag = document.createElement('script');\n    tag.src = uri;\n    tag.async = true;\n    tag.onload = () => {\n      resolve();\n    };\n  var firstScriptTag = document.getElementsByTagName('script')[0];\n  firstScriptTag.parentNode.insertBefore(tag, firstScriptTag);\n});\n};\n\nif(typeof $3Dmolpromise === 'undefined') {\n$3Dmolpromise = null;\n  $3Dmolpromise = loadScriptAsync('https://3dmol.org/build/3Dmol.js');\n}\n\nvar viewer_16333988826821678 = null;\nvar warn = document.getElementById(\"3dmolwarning_16333988826821678\");\nif(warn) {\n    warn.parentNode.removeChild(warn);\n}\n$3Dmolpromise.then(function() {\nviewer_16333988826821678 = $3Dmol.createViewer($(\"#3dmolviewer_16333988826821678\"),{backgroundColor:\"white\"});\n$3Dmol.download(\"pdb:1ycr\", viewer_16333988826821678, {}, function() {\nviewer_16333988826821678.zoomTo();\n\tviewer_16333988826821678.setStyle({\"cartoon\": {\"color\": \"white\"}});\n\tviewer_16333988826821678.addSurface(1,{\"opacity\": 0.7, \"colorscheme\": {\"prop\": \"b\", \"gradient\": \"sinebow\", \"min\": 0, \"max\": 70}});\nviewer_16333988826821678.render();\n})\n});\n</script>",
            "text/html": [
              "<div id=\"3dmolviewer_16333988826821678\"  style=\"position: relative; width: 640px; height: 480px\">\n",
              "        <p id=\"3dmolwarning_16333988826821678\" style=\"background-color:#ffcccc;color:black\">You appear to be running in JupyterLab (or JavaScript failed to load for some other reason).  You need to install the 3dmol extension: <br>\n",
              "        <tt>jupyter labextension install jupyterlab_3dmol</tt></p>\n",
              "        </div>\n",
              "<script>\n",
              "\n",
              "var loadScriptAsync = function(uri){\n",
              "  return new Promise((resolve, reject) => {\n",
              "    var tag = document.createElement('script');\n",
              "    tag.src = uri;\n",
              "    tag.async = true;\n",
              "    tag.onload = () => {\n",
              "      resolve();\n",
              "    };\n",
              "  var firstScriptTag = document.getElementsByTagName('script')[0];\n",
              "  firstScriptTag.parentNode.insertBefore(tag, firstScriptTag);\n",
              "});\n",
              "};\n",
              "\n",
              "if(typeof $3Dmolpromise === 'undefined') {\n",
              "$3Dmolpromise = null;\n",
              "  $3Dmolpromise = loadScriptAsync('https://3dmol.org/build/3Dmol.js');\n",
              "}\n",
              "\n",
              "var viewer_16333988826821678 = null;\n",
              "var warn = document.getElementById(\"3dmolwarning_16333988826821678\");\n",
              "if(warn) {\n",
              "    warn.parentNode.removeChild(warn);\n",
              "}\n",
              "$3Dmolpromise.then(function() {\n",
              "viewer_16333988826821678 = $3Dmol.createViewer($(\"#3dmolviewer_16333988826821678\"),{backgroundColor:\"white\"});\n",
              "$3Dmol.download(\"pdb:1ycr\", viewer_16333988826821678, {}, function() {\n",
              "viewer_16333988826821678.zoomTo();\n",
              "\tviewer_16333988826821678.setStyle({\"cartoon\": {\"color\": \"white\"}});\n",
              "\tviewer_16333988826821678.addSurface(1,{\"opacity\": 0.7, \"colorscheme\": {\"prop\": \"b\", \"gradient\": \"sinebow\", \"min\": 0, \"max\": 70}});\n",
              "viewer_16333988826821678.render();\n",
              "})\n",
              "});\n",
              "</script>"
            ]
          },
          "metadata": {}
        },
        {
          "output_type": "execute_result",
          "data": {
            "text/plain": [
              "<py3Dmol.view at 0x7ffa93a4b110>"
            ]
          },
          "metadata": {},
          "execution_count": 15
        }
      ]
    },
    {
      "cell_type": "code",
      "metadata": {
        "id": "J7AzQ0ZCGx5s",
        "colab": {
          "base_uri": "https://localhost:8080/",
          "height": 515
        },
        "outputId": "56cc7b64-9aaa-40ab-ed24-6c64a7a19de7"
      },
      "source": [
        "import requests, base64\n",
        "r = requests.get('https://mmtf.rcsb.org/v1.0/full/5lgo')\n",
        "view = py3Dmol.view()\n",
        "view.addModel(base64.b64encode(r.content).decode(),'mmtf')\n",
        "view.addUnitCell()\n",
        "view.zoomTo()"
      ],
      "execution_count": null,
      "outputs": [
        {
          "output_type": "display_data",
          "data": {
            "application/3dmoljs_load.v0": "<div id=\"3dmolviewer_16333988830096984\"  style=\"position: relative; width: 640px; height: 480px\">\n        <p id=\"3dmolwarning_16333988830096984\" style=\"background-color:#ffcccc;color:black\">You appear to be running in JupyterLab (or JavaScript failed to load for some other reason).  You need to install the 3dmol extension: <br>\n        <tt>jupyter labextension install jupyterlab_3dmol</tt></p>\n        </div>\n<script>\n\nvar loadScriptAsync = function(uri){\n  return new Promise((resolve, reject) => {\n    var tag = document.createElement('script');\n    tag.src = uri;\n    tag.async = true;\n    tag.onload = () => {\n      resolve();\n    };\n  var firstScriptTag = document.getElementsByTagName('script')[0];\n  firstScriptTag.parentNode.insertBefore(tag, firstScriptTag);\n});\n};\n\nif(typeof $3Dmolpromise === 'undefined') {\n$3Dmolpromise = null;\n  $3Dmolpromise = loadScriptAsync('https://3dmol.org/build/3Dmol.js');\n}\n\nvar viewer_16333988830096984 = null;\nvar warn = document.getElementById(\"3dmolwarning_16333988830096984\");\nif(warn) {\n    warn.parentNode.removeChild(warn);\n}\n$3Dmolpromise.then(function() {\nviewer_16333988830096984 = $3Dmol.createViewer($(\"#3dmolviewer_16333988830096984\"),{backgroundColor:\"white\"});\nviewer_16333988830096984.zoomTo();\n\tviewer_16333988830096984.addModel(\"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\",\"mmtf\");\n\tviewer_16333988830096984.addUnitCell();\n\tviewer_16333988830096984.zoomTo();\nviewer_16333988830096984.render();\n});\n</script>",
            "text/html": [
              "<div id=\"3dmolviewer_16333988830096984\"  style=\"position: relative; width: 640px; height: 480px\">\n",
              "        <p id=\"3dmolwarning_16333988830096984\" style=\"background-color:#ffcccc;color:black\">You appear to be running in JupyterLab (or JavaScript failed to load for some other reason).  You need to install the 3dmol extension: <br>\n",
              "        <tt>jupyter labextension install jupyterlab_3dmol</tt></p>\n",
              "        </div>\n",
              "<script>\n",
              "\n",
              "var loadScriptAsync = function(uri){\n",
              "  return new Promise((resolve, reject) => {\n",
              "    var tag = document.createElement('script');\n",
              "    tag.src = uri;\n",
              "    tag.async = true;\n",
              "    tag.onload = () => {\n",
              "      resolve();\n",
              "    };\n",
              "  var firstScriptTag = document.getElementsByTagName('script')[0];\n",
              "  firstScriptTag.parentNode.insertBefore(tag, firstScriptTag);\n",
              "});\n",
              "};\n",
              "\n",
              "if(typeof $3Dmolpromise === 'undefined') {\n",
              "$3Dmolpromise = null;\n",
              "  $3Dmolpromise = loadScriptAsync('https://3dmol.org/build/3Dmol.js');\n",
              "}\n",
              "\n",
              "var viewer_16333988830096984 = null;\n",
              "var warn = document.getElementById(\"3dmolwarning_16333988830096984\");\n",
              "if(warn) {\n",
              "    warn.parentNode.removeChild(warn);\n",
              "}\n",
              "$3Dmolpromise.then(function() {\n",
              "viewer_16333988830096984 = $3Dmol.createViewer($(\"#3dmolviewer_16333988830096984\"),{backgroundColor:\"white\"});\n",
              "viewer_16333988830096984.zoomTo();\n",
              "\tviewer_16333988830096984.addModel(\"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\",\"mmtf\");\n",
              "\tviewer_16333988830096984.addUnitCell();\n",
              "\tviewer_16333988830096984.zoomTo();\n",
              "viewer_16333988830096984.render();\n",
              "});\n",
              "</script>"
            ]
          },
          "metadata": {}
        },
        {
          "output_type": "execute_result",
          "data": {
            "text/plain": [
              "<py3Dmol.view at 0x7ffa92fe8410>"
            ]
          },
          "metadata": {},
          "execution_count": 16
        }
      ]
    },
    {
      "cell_type": "markdown",
      "metadata": {
        "id": "vi_tFDsMGx5v"
      },
      "source": [
        "Specifying individual styles for a viewer grid in the constructor"
      ]
    },
    {
      "cell_type": "code",
      "metadata": {
        "id": "mgMG_JakGx5w",
        "colab": {
          "base_uri": "https://localhost:8080/",
          "height": 496
        },
        "outputId": "0d78eabf-cded-4d66-e6d2-28f8672a8615"
      },
      "source": [
        "view = py3Dmol.view(query='pdb:1dc9',viewergrid=(2,2),style=[[{'stick':{}},{'cartoon':{'arrows':True, 'tubes':True, 'style':'oval', 'color':'white'}}],\n",
        "                                                            [{'stick':{'colorscheme':'greenCarbon'}},{'cartoon':{'color':'spectrum'}}]])\n",
        "view.show()"
      ],
      "execution_count": null,
      "outputs": [
        {
          "output_type": "display_data",
          "data": {
            "application/3dmoljs_load.v0": "<div id=\"3dmolviewer_16333988830337832\"  style=\"position: relative; width: 640px; height: 480px\">\n        <p id=\"3dmolwarning_16333988830337832\" style=\"background-color:#ffcccc;color:black\">You appear to be running in JupyterLab (or JavaScript failed to load for some other reason).  You need to install the 3dmol extension: <br>\n        <tt>jupyter labextension install jupyterlab_3dmol</tt></p>\n        </div>\n<script>\n\nvar loadScriptAsync = function(uri){\n  return new Promise((resolve, reject) => {\n    var tag = document.createElement('script');\n    tag.src = uri;\n    tag.async = true;\n    tag.onload = () => {\n      resolve();\n    };\n  var firstScriptTag = document.getElementsByTagName('script')[0];\n  firstScriptTag.parentNode.insertBefore(tag, firstScriptTag);\n});\n};\n\nif(typeof $3Dmolpromise === 'undefined') {\n$3Dmolpromise = null;\n  $3Dmolpromise = loadScriptAsync('https://3dmol.org/build/3Dmol.js');\n}\n\nvar viewer_16333988830337832 = null;\nvar warn = document.getElementById(\"3dmolwarning_16333988830337832\");\nif(warn) {\n    warn.parentNode.removeChild(warn);\n}\n$3Dmolpromise.then(function() {\nvar viewergrid_16333988830337832 = null;\nviewergrid_16333988830337832 = $3Dmol.createViewerGrid($(\"#3dmolviewer_16333988830337832\"),{rows: 2, cols: 2, control_all: true},{backgroundColor:\"white\"});\nviewer_16333988830337832 = viewergrid_16333988830337832[0][0];\n$3Dmol.download(\"pdb:1dc9\", viewergrid_16333988830337832[0][0], {}, function() {\n$3Dmol.download(\"pdb:1dc9\", viewergrid_16333988830337832[0][1], {}, function() {\n$3Dmol.download(\"pdb:1dc9\", viewergrid_16333988830337832[1][0], {}, function() {\n$3Dmol.download(\"pdb:1dc9\", viewergrid_16333988830337832[1][1], {}, function() {\nviewergrid_16333988830337832[0][0].setStyle({\"stick\": {}});\nviewergrid_16333988830337832[0][0].zoomTo();viewergrid_16333988830337832[0][1].setStyle({\"cartoon\": {\"arrows\": true, \"tubes\": true, \"style\": \"oval\", \"color\": \"white\"}});\nviewergrid_16333988830337832[0][1].zoomTo();viewergrid_16333988830337832[1][0].setStyle({\"stick\": {\"colorscheme\": \"greenCarbon\"}});\nviewergrid_16333988830337832[1][0].zoomTo();viewergrid_16333988830337832[1][1].setStyle({\"cartoon\": {\"color\": \"spectrum\"}});\nviewergrid_16333988830337832[1][1].zoomTo();viewergrid_16333988830337832[1][1].render();\nviewergrid_16333988830337832[1][0].render();\nviewergrid_16333988830337832[0][1].render();\nviewergrid_16333988830337832[0][0].render();\n})\n})\n})\n})\n});\n</script>",
            "text/html": [
              "<div id=\"3dmolviewer_16333988830337832\"  style=\"position: relative; width: 640px; height: 480px\">\n",
              "        <p id=\"3dmolwarning_16333988830337832\" style=\"background-color:#ffcccc;color:black\">You appear to be running in JupyterLab (or JavaScript failed to load for some other reason).  You need to install the 3dmol extension: <br>\n",
              "        <tt>jupyter labextension install jupyterlab_3dmol</tt></p>\n",
              "        </div>\n",
              "<script>\n",
              "\n",
              "var loadScriptAsync = function(uri){\n",
              "  return new Promise((resolve, reject) => {\n",
              "    var tag = document.createElement('script');\n",
              "    tag.src = uri;\n",
              "    tag.async = true;\n",
              "    tag.onload = () => {\n",
              "      resolve();\n",
              "    };\n",
              "  var firstScriptTag = document.getElementsByTagName('script')[0];\n",
              "  firstScriptTag.parentNode.insertBefore(tag, firstScriptTag);\n",
              "});\n",
              "};\n",
              "\n",
              "if(typeof $3Dmolpromise === 'undefined') {\n",
              "$3Dmolpromise = null;\n",
              "  $3Dmolpromise = loadScriptAsync('https://3dmol.org/build/3Dmol.js');\n",
              "}\n",
              "\n",
              "var viewer_16333988830337832 = null;\n",
              "var warn = document.getElementById(\"3dmolwarning_16333988830337832\");\n",
              "if(warn) {\n",
              "    warn.parentNode.removeChild(warn);\n",
              "}\n",
              "$3Dmolpromise.then(function() {\n",
              "var viewergrid_16333988830337832 = null;\n",
              "viewergrid_16333988830337832 = $3Dmol.createViewerGrid($(\"#3dmolviewer_16333988830337832\"),{rows: 2, cols: 2, control_all: true},{backgroundColor:\"white\"});\n",
              "viewer_16333988830337832 = viewergrid_16333988830337832[0][0];\n",
              "$3Dmol.download(\"pdb:1dc9\", viewergrid_16333988830337832[0][0], {}, function() {\n",
              "$3Dmol.download(\"pdb:1dc9\", viewergrid_16333988830337832[0][1], {}, function() {\n",
              "$3Dmol.download(\"pdb:1dc9\", viewergrid_16333988830337832[1][0], {}, function() {\n",
              "$3Dmol.download(\"pdb:1dc9\", viewergrid_16333988830337832[1][1], {}, function() {\n",
              "viewergrid_16333988830337832[0][0].setStyle({\"stick\": {}});\n",
              "viewergrid_16333988830337832[0][0].zoomTo();viewergrid_16333988830337832[0][1].setStyle({\"cartoon\": {\"arrows\": true, \"tubes\": true, \"style\": \"oval\", \"color\": \"white\"}});\n",
              "viewergrid_16333988830337832[0][1].zoomTo();viewergrid_16333988830337832[1][0].setStyle({\"stick\": {\"colorscheme\": \"greenCarbon\"}});\n",
              "viewergrid_16333988830337832[1][0].zoomTo();viewergrid_16333988830337832[1][1].setStyle({\"cartoon\": {\"color\": \"spectrum\"}});\n",
              "viewergrid_16333988830337832[1][1].zoomTo();viewergrid_16333988830337832[1][1].render();\n",
              "viewergrid_16333988830337832[1][0].render();\n",
              "viewergrid_16333988830337832[0][1].render();\n",
              "viewergrid_16333988830337832[0][0].render();\n",
              "})\n",
              "})\n",
              "})\n",
              "})\n",
              "});\n",
              "</script>"
            ]
          },
          "metadata": {}
        }
      ]
    },
    {
      "cell_type": "markdown",
      "metadata": {
        "id": "VFXz1arra9SW"
      },
      "source": [
        "It isn't possible to convert Python functions to Javascript functions, but Javascript code can be provided in string form to click/hover callbacks."
      ]
    },
    {
      "cell_type": "code",
      "metadata": {
        "id": "cwGY0eGdGx5z",
        "colab": {
          "base_uri": "https://localhost:8080/",
          "height": 515
        },
        "outputId": "73f91273-8101-4663-bb3a-b978938f5e9b"
      },
      "source": [
        "v = py3Dmol.view(query=\"pdb:1ubq\",style={'cartoon':{},'stick':{}})\n",
        "v.setHoverable({},True,'''function(atom,viewer,event,container) {\n",
        "                   if(!atom.label) {\n",
        "                    atom.label = viewer.addLabel(atom.resn+\":\"+atom.atom,{position: atom, backgroundColor: 'mintcream', fontColor:'black'});\n",
        "                   }}''',\n",
        "               '''function(atom,viewer) { \n",
        "                   if(atom.label) {\n",
        "                    viewer.removeLabel(atom.label);\n",
        "                    delete atom.label;\n",
        "                   }\n",
        "                }''')"
      ],
      "execution_count": null,
      "outputs": [
        {
          "output_type": "display_data",
          "data": {
            "application/3dmoljs_load.v0": "<div id=\"3dmolviewer_16333988830611005\"  style=\"position: relative; width: 640px; height: 480px\">\n        <p id=\"3dmolwarning_16333988830611005\" style=\"background-color:#ffcccc;color:black\">You appear to be running in JupyterLab (or JavaScript failed to load for some other reason).  You need to install the 3dmol extension: <br>\n        <tt>jupyter labextension install jupyterlab_3dmol</tt></p>\n        </div>\n<script>\n\nvar loadScriptAsync = function(uri){\n  return new Promise((resolve, reject) => {\n    var tag = document.createElement('script');\n    tag.src = uri;\n    tag.async = true;\n    tag.onload = () => {\n      resolve();\n    };\n  var firstScriptTag = document.getElementsByTagName('script')[0];\n  firstScriptTag.parentNode.insertBefore(tag, firstScriptTag);\n});\n};\n\nif(typeof $3Dmolpromise === 'undefined') {\n$3Dmolpromise = null;\n  $3Dmolpromise = loadScriptAsync('https://3dmol.org/build/3Dmol.js');\n}\n\nvar viewer_16333988830611005 = null;\nvar warn = document.getElementById(\"3dmolwarning_16333988830611005\");\nif(warn) {\n    warn.parentNode.removeChild(warn);\n}\n$3Dmolpromise.then(function() {\nviewer_16333988830611005 = $3Dmol.createViewer($(\"#3dmolviewer_16333988830611005\"),{backgroundColor:\"white\"});\n$3Dmol.download(\"pdb:1ubq\", viewer_16333988830611005, {}, function() {\nviewer_16333988830611005.setStyle({\"cartoon\": {}, \"stick\": {}});\nviewer_16333988830611005.zoomTo();\n\tviewer_16333988830611005.setHoverable({},true,\"function(atom,viewer,event,container) {\\n                   if(!atom.label) {\\n                    atom.label = viewer.addLabel(atom.resn+\\\":\\\"+atom.atom,{position: atom, backgroundColor: 'mintcream', fontColor:'black'});\\n                   }}\",\"function(atom,viewer) { \\n                   if(atom.label) {\\n                    viewer.removeLabel(atom.label);\\n                    delete atom.label;\\n                   }\\n                }\");\nviewer_16333988830611005.render();\n})\n});\n</script>",
            "text/html": [
              "<div id=\"3dmolviewer_16333988830611005\"  style=\"position: relative; width: 640px; height: 480px\">\n",
              "        <p id=\"3dmolwarning_16333988830611005\" style=\"background-color:#ffcccc;color:black\">You appear to be running in JupyterLab (or JavaScript failed to load for some other reason).  You need to install the 3dmol extension: <br>\n",
              "        <tt>jupyter labextension install jupyterlab_3dmol</tt></p>\n",
              "        </div>\n",
              "<script>\n",
              "\n",
              "var loadScriptAsync = function(uri){\n",
              "  return new Promise((resolve, reject) => {\n",
              "    var tag = document.createElement('script');\n",
              "    tag.src = uri;\n",
              "    tag.async = true;\n",
              "    tag.onload = () => {\n",
              "      resolve();\n",
              "    };\n",
              "  var firstScriptTag = document.getElementsByTagName('script')[0];\n",
              "  firstScriptTag.parentNode.insertBefore(tag, firstScriptTag);\n",
              "});\n",
              "};\n",
              "\n",
              "if(typeof $3Dmolpromise === 'undefined') {\n",
              "$3Dmolpromise = null;\n",
              "  $3Dmolpromise = loadScriptAsync('https://3dmol.org/build/3Dmol.js');\n",
              "}\n",
              "\n",
              "var viewer_16333988830611005 = null;\n",
              "var warn = document.getElementById(\"3dmolwarning_16333988830611005\");\n",
              "if(warn) {\n",
              "    warn.parentNode.removeChild(warn);\n",
              "}\n",
              "$3Dmolpromise.then(function() {\n",
              "viewer_16333988830611005 = $3Dmol.createViewer($(\"#3dmolviewer_16333988830611005\"),{backgroundColor:\"white\"});\n",
              "$3Dmol.download(\"pdb:1ubq\", viewer_16333988830611005, {}, function() {\n",
              "viewer_16333988830611005.setStyle({\"cartoon\": {}, \"stick\": {}});\n",
              "viewer_16333988830611005.zoomTo();\n",
              "\tviewer_16333988830611005.setHoverable({},true,\"function(atom,viewer,event,container) {\\n                   if(!atom.label) {\\n                    atom.label = viewer.addLabel(atom.resn+\\\":\\\"+atom.atom,{position: atom, backgroundColor: 'mintcream', fontColor:'black'});\\n                   }}\",\"function(atom,viewer) { \\n                   if(atom.label) {\\n                    viewer.removeLabel(atom.label);\\n                    delete atom.label;\\n                   }\\n                }\");\n",
              "viewer_16333988830611005.render();\n",
              "})\n",
              "});\n",
              "</script>"
            ]
          },
          "metadata": {}
        },
        {
          "output_type": "execute_result",
          "data": {
            "text/plain": [
              "<py3Dmol.view at 0x7ffa92b5c2d0>"
            ]
          },
          "metadata": {},
          "execution_count": 18
        }
      ]
    },
    {
      "cell_type": "markdown",
      "metadata": {
        "id": "FssjNxl7gLDh"
      },
      "source": [
        "An existing viewer can be modified from different cells with `update`"
      ]
    },
    {
      "cell_type": "code",
      "metadata": {
        "id": "6oSwT9hYbwf9",
        "colab": {
          "base_uri": "https://localhost:8080/",
          "height": 496
        },
        "outputId": "71358ba6-8689-481b-b5f7-60bacda46a5b"
      },
      "source": [
        "benz='''\n",
        "     RDKit          3D\n",
        "\n",
        "  6  6  0  0  0  0  0  0  0  0999 V2000\n",
        "   -0.9517    0.7811   -0.6622 C   0  0  0  0  0  0  0  0  0  0  0  0\n",
        "    0.2847    1.3329   -0.3121 C   0  0  0  0  0  0  0  0  0  0  0  0\n",
        "    1.2365    0.5518    0.3512 C   0  0  0  0  0  0  0  0  0  0  0  0\n",
        "    0.9517   -0.7811    0.6644 C   0  0  0  0  0  0  0  0  0  0  0  0\n",
        "   -0.2847   -1.3329    0.3144 C   0  0  0  0  0  0  0  0  0  0  0  0\n",
        "   -1.2365   -0.5518   -0.3489 C   0  0  0  0  0  0  0  0  0  0  0  0\n",
        "  1  2  2  0\n",
        "  2  3  1  0\n",
        "  3  4  2  0\n",
        "  4  5  1  0\n",
        "  5  6  2  0\n",
        "  6  1  1  0\n",
        "M  END\n",
        "$$$$'''\n",
        "view = py3Dmol.view()\n",
        "view.addModel(benz,'sdf')\n",
        "view.setStyle({'stick':{}})\n",
        "view.zoomTo()\n",
        "view.show()"
      ],
      "execution_count": null,
      "outputs": [
        {
          "output_type": "display_data",
          "data": {
            "application/3dmoljs_load.v0": "<div id=\"3dmolviewer_16333988830799696\"  style=\"position: relative; width: 640px; height: 480px\">\n        <p id=\"3dmolwarning_16333988830799696\" style=\"background-color:#ffcccc;color:black\">You appear to be running in JupyterLab (or JavaScript failed to load for some other reason).  You need to install the 3dmol extension: <br>\n        <tt>jupyter labextension install jupyterlab_3dmol</tt></p>\n        </div>\n<script>\n\nvar loadScriptAsync = function(uri){\n  return new Promise((resolve, reject) => {\n    var tag = document.createElement('script');\n    tag.src = uri;\n    tag.async = true;\n    tag.onload = () => {\n      resolve();\n    };\n  var firstScriptTag = document.getElementsByTagName('script')[0];\n  firstScriptTag.parentNode.insertBefore(tag, firstScriptTag);\n});\n};\n\nif(typeof $3Dmolpromise === 'undefined') {\n$3Dmolpromise = null;\n  $3Dmolpromise = loadScriptAsync('https://3dmol.org/build/3Dmol.js');\n}\n\nvar viewer_16333988830799696 = null;\nvar warn = document.getElementById(\"3dmolwarning_16333988830799696\");\nif(warn) {\n    warn.parentNode.removeChild(warn);\n}\n$3Dmolpromise.then(function() {\nviewer_16333988830799696 = $3Dmol.createViewer($(\"#3dmolviewer_16333988830799696\"),{backgroundColor:\"white\"});\nviewer_16333988830799696.zoomTo();\n\tviewer_16333988830799696.addModel(\"\\n     RDKit          3D\\n\\n  6  6  0  0  0  0  0  0  0  0999 V2000\\n   -0.9517    0.7811   -0.6622 C   0  0  0  0  0  0  0  0  0  0  0  0\\n    0.2847    1.3329   -0.3121 C   0  0  0  0  0  0  0  0  0  0  0  0\\n    1.2365    0.5518    0.3512 C   0  0  0  0  0  0  0  0  0  0  0  0\\n    0.9517   -0.7811    0.6644 C   0  0  0  0  0  0  0  0  0  0  0  0\\n   -0.2847   -1.3329    0.3144 C   0  0  0  0  0  0  0  0  0  0  0  0\\n   -1.2365   -0.5518   -0.3489 C   0  0  0  0  0  0  0  0  0  0  0  0\\n  1  2  2  0\\n  2  3  1  0\\n  3  4  2  0\\n  4  5  1  0\\n  5  6  2  0\\n  6  1  1  0\\nM  END\\n$$$$\",\"sdf\");\n\tviewer_16333988830799696.setStyle({\"stick\": {}});\n\tviewer_16333988830799696.zoomTo();\nviewer_16333988830799696.render();\n});\n</script>",
            "text/html": [
              "<div id=\"3dmolviewer_16333988830799696\"  style=\"position: relative; width: 640px; height: 480px\">\n",
              "        <p id=\"3dmolwarning_16333988830799696\" style=\"background-color:#ffcccc;color:black\">You appear to be running in JupyterLab (or JavaScript failed to load for some other reason).  You need to install the 3dmol extension: <br>\n",
              "        <tt>jupyter labextension install jupyterlab_3dmol</tt></p>\n",
              "        </div>\n",
              "<script>\n",
              "\n",
              "var loadScriptAsync = function(uri){\n",
              "  return new Promise((resolve, reject) => {\n",
              "    var tag = document.createElement('script');\n",
              "    tag.src = uri;\n",
              "    tag.async = true;\n",
              "    tag.onload = () => {\n",
              "      resolve();\n",
              "    };\n",
              "  var firstScriptTag = document.getElementsByTagName('script')[0];\n",
              "  firstScriptTag.parentNode.insertBefore(tag, firstScriptTag);\n",
              "});\n",
              "};\n",
              "\n",
              "if(typeof $3Dmolpromise === 'undefined') {\n",
              "$3Dmolpromise = null;\n",
              "  $3Dmolpromise = loadScriptAsync('https://3dmol.org/build/3Dmol.js');\n",
              "}\n",
              "\n",
              "var viewer_16333988830799696 = null;\n",
              "var warn = document.getElementById(\"3dmolwarning_16333988830799696\");\n",
              "if(warn) {\n",
              "    warn.parentNode.removeChild(warn);\n",
              "}\n",
              "$3Dmolpromise.then(function() {\n",
              "viewer_16333988830799696 = $3Dmol.createViewer($(\"#3dmolviewer_16333988830799696\"),{backgroundColor:\"white\"});\n",
              "viewer_16333988830799696.zoomTo();\n",
              "\tviewer_16333988830799696.addModel(\"\\n     RDKit          3D\\n\\n  6  6  0  0  0  0  0  0  0  0999 V2000\\n   -0.9517    0.7811   -0.6622 C   0  0  0  0  0  0  0  0  0  0  0  0\\n    0.2847    1.3329   -0.3121 C   0  0  0  0  0  0  0  0  0  0  0  0\\n    1.2365    0.5518    0.3512 C   0  0  0  0  0  0  0  0  0  0  0  0\\n    0.9517   -0.7811    0.6644 C   0  0  0  0  0  0  0  0  0  0  0  0\\n   -0.2847   -1.3329    0.3144 C   0  0  0  0  0  0  0  0  0  0  0  0\\n   -1.2365   -0.5518   -0.3489 C   0  0  0  0  0  0  0  0  0  0  0  0\\n  1  2  2  0\\n  2  3  1  0\\n  3  4  2  0\\n  4  5  1  0\\n  5  6  2  0\\n  6  1  1  0\\nM  END\\n$$$$\",\"sdf\");\n",
              "\tviewer_16333988830799696.setStyle({\"stick\": {}});\n",
              "\tviewer_16333988830799696.zoomTo();\n",
              "viewer_16333988830799696.render();\n",
              "});\n",
              "</script>"
            ]
          },
          "metadata": {}
        }
      ]
    },
    {
      "cell_type": "markdown",
      "metadata": {
        "id": "F46NeiOukNGr"
      },
      "source": [
        "However, **this does not work in colab** because colab sandboxes the JavaScript environments of each cell. "
      ]
    },
    {
      "cell_type": "code",
      "metadata": {
        "colab": {
          "base_uri": "https://localhost:8080/",
          "height": 16
        },
        "id": "izcllEJogRjX",
        "outputId": "616a3300-f3bd-4a02-d7ac-c481e8aee162"
      },
      "source": [
        "view.setStyle({'stick':{'color':'blue'}})\n",
        "view.update()"
      ],
      "execution_count": null,
      "outputs": [
        {
          "output_type": "display_data",
          "data": {
            "application/3dmoljs_load.v0": "<script>\n            $3Dmolpromise.then(function() { //wrap in promise for non-interactive functionality\n                \tviewer_16333988830799696.setStyle({\"stick\": {\"color\": \"blue\"}});\n\n                viewer_16333988830799696.render();\n            });\n            </script>",
            "text/html": [
              "<script>\n",
              "            $3Dmolpromise.then(function() { //wrap in promise for non-interactive functionality\n",
              "                \tviewer_16333988830799696.setStyle({\"stick\": {\"color\": \"blue\"}});\n",
              "\n",
              "                viewer_16333988830799696.render();\n",
              "            });\n",
              "            </script>"
            ]
          },
          "metadata": {}
        }
      ]
    },
    {
      "cell_type": "code",
      "metadata": {
        "id": "7y3cW3GGiNnq"
      },
      "source": [],
      "execution_count": null,
      "outputs": []
    }
  ]
}